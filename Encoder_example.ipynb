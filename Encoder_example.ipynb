{
  "nbformat": 4,
  "nbformat_minor": 0,
  "metadata": {
    "colab": {
      "provenance": [],
      "authorship_tag": "ABX9TyMGzC1N8tO7HzCHtkvlfrPk",
      "include_colab_link": true
    },
    "kernelspec": {
      "name": "python3",
      "display_name": "Python 3"
    },
    "language_info": {
      "name": "python"
    }
  },
  "cells": [
    {
      "cell_type": "markdown",
      "metadata": {
        "id": "view-in-github",
        "colab_type": "text"
      },
      "source": [
        "<a href=\"https://colab.research.google.com/github/juhumkwon/source_code/blob/main/Encoder_example.ipynb\" target=\"_parent\"><img src=\"https://colab.research.google.com/assets/colab-badge.svg\" alt=\"Open In Colab\"/></a>"
      ]
    },
    {
      "cell_type": "code",
      "execution_count": 1,
      "metadata": {
        "colab": {
          "base_uri": "https://localhost:8080/"
        },
        "id": "_jIQnpuOUyC_",
        "outputId": "61a9b8e5-a426-4501-acfa-374ef12efa41"
      },
      "outputs": [
        {
          "output_type": "stream",
          "name": "stdout",
          "text": [
            "최종 인코더 출력: (1, 4, 512)\n"
          ]
        }
      ],
      "source": [
        "\n",
        "import tensorflow as tf\n",
        "import numpy as np\n",
        "\n",
        "# 문장 및 토큰화\n",
        "sentence = \"I go to school\"\n",
        "vocab = {'<pad>': 0, 'I': 1, 'go': 2, 'to': 3, 'school': 4}\n",
        "token_ids = [vocab[word] for word in sentence.split()]  # [1, 2, 3, 4]\n",
        "input_tokens = tf.constant([token_ids])  # (1, seq_len)\n",
        "\n",
        "# 파라미터\n",
        "d_model = 512\n",
        "num_heads = 8\n",
        "depth = d_model // num_heads\n",
        "max_len = 10\n",
        "\n",
        "# 임베딩\n",
        "embedding = tf.keras.layers.Embedding(input_dim=len(vocab), output_dim=d_model)\n",
        "x = embedding(input_tokens)  # (1, seq_len, d_model)\n",
        "seq_len = tf.shape(x)[1]\n",
        "\n",
        "# 포지셔널 인코딩\n",
        "def get_positional_encoding(position, d_model):\n",
        "    angle_rads = np.arange(position)[:, np.newaxis] / np.power(10000, (2 * (np.arange(d_model)[np.newaxis, :] // 2)) / np.float32(d_model))\n",
        "    angle_rads[:, 0::2] = np.sin(angle_rads[:, 0::2])\n",
        "    angle_rads[:, 1::2] = np.cos(angle_rads[:, 1::2])\n",
        "    pos_encoding = angle_rads[np.newaxis, ...]\n",
        "    return tf.cast(pos_encoding, dtype=tf.float32)\n",
        "\n",
        "pos_encoding = get_positional_encoding(max_len, d_model)\n",
        "x += pos_encoding[:, :seq_len, :]\n",
        "\n",
        "# 쿼리, 키, 밸류 projection\n",
        "Wq = tf.keras.layers.Dense(d_model)\n",
        "Wk = tf.keras.layers.Dense(d_model)\n",
        "Wv = tf.keras.layers.Dense(d_model)\n",
        "Wo = tf.keras.layers.Dense(d_model)\n",
        "\n",
        "q = Wq(x)  # (1, seq_len, d_model)\n",
        "k = Wk(x)\n",
        "v = Wv(x)\n",
        "\n",
        "# 스플릿: (batch, seq_len, num_heads, depth) -> (batch, num_heads, seq_len, depth)\n",
        "def split_heads(x, batch_size):\n",
        "    x = tf.reshape(x, (batch_size, -1, num_heads, depth))\n",
        "    return tf.transpose(x, perm=[0, 2, 1, 3])\n",
        "\n",
        "batch_size = tf.shape(x)[0]\n",
        "q = split_heads(q, batch_size)\n",
        "k = split_heads(k, batch_size)\n",
        "v = split_heads(v, batch_size)\n",
        "\n",
        "# 스케일드 닷 프로덕트 어텐션\n",
        "def scaled_dot_product_attention(q, k, v):\n",
        "    matmul_qk = tf.matmul(q, k, transpose_b=True)  # (..., seq_len_q, seq_len_k)\n",
        "    dk = tf.cast(tf.shape(k)[-1], tf.float32)\n",
        "    scaled_attention_logits = matmul_qk / tf.math.sqrt(dk)\n",
        "    attention_weights = tf.nn.softmax(scaled_attention_logits, axis=-1)\n",
        "    output = tf.matmul(attention_weights, v)  # (..., seq_len_q, depth_v)\n",
        "    return output, attention_weights\n",
        "\n",
        "scaled_attention, attn_weights = scaled_dot_product_attention(q, k, v)  # (batch, num_heads, seq_len, depth)\n",
        "\n",
        "# concat heads: (batch, seq_len, d_model)\n",
        "def concat_heads(x):\n",
        "    x = tf.transpose(x, perm=[0, 2, 1, 3])  # (batch, seq_len, num_heads, depth)\n",
        "    return tf.reshape(x, (batch_size, -1, d_model))\n",
        "\n",
        "concat_attention = concat_heads(scaled_attention)  # (1, seq_len, d_model)\n",
        "\n",
        "# 최종 projection\n",
        "output = Wo(concat_attention)  # (1, seq_len, d_model)\n",
        "\n",
        "print(\"최종 인코더 출력:\", output.shape)"
      ]
    }
  ]
}