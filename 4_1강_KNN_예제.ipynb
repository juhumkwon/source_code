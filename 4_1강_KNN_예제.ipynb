{
  "nbformat": 4,
  "nbformat_minor": 0,
  "metadata": {
    "colab": {
      "provenance": [],
      "authorship_tag": "ABX9TyOiyNv9YezibdGHRxi0P2M5",
      "include_colab_link": true
    },
    "kernelspec": {
      "name": "python3",
      "display_name": "Python 3"
    },
    "language_info": {
      "name": "python"
    }
  },
  "cells": [
    {
      "cell_type": "markdown",
      "metadata": {
        "id": "view-in-github",
        "colab_type": "text"
      },
      "source": [
        "<a href=\"https://colab.research.google.com/github/juhumkwon/source_code/blob/main/4_1%EA%B0%95_KNN_%EC%98%88%EC%A0%9C.ipynb\" target=\"_parent\"><img src=\"https://colab.research.google.com/assets/colab-badge.svg\" alt=\"Open In Colab\"/></a>"
      ]
    },
    {
      "cell_type": "code",
      "execution_count": 5,
      "metadata": {
        "colab": {
          "base_uri": "https://localhost:8080/"
        },
        "id": "Mi1HFoSUdi_0",
        "outputId": "0c110f7e-1f79-4b37-fc3b-ceabd72373bd"
      },
      "outputs": [
        {
          "output_type": "stream",
          "name": "stdout",
          "text": [
            "정확도 : 0.7666666666666667\n",
            "정확도 0.9666666666666667 으로 최적의 k는 1 입니다.\n"
          ]
        }
      ],
      "source": [
        "#출처 : https://github.com/gilbutITbook/080263/tree/master/chap3/data/titanic\n",
        "# K-최근접 이웃\n",
        "\n",
        "from sklearn.datasets import load_iris\n",
        "\n",
        "#라이브러리 호출 및 데이터 준비\n",
        "# 벡터 및 행렬의 연산 처리를 위한 라이브러리\n",
        "import numpy as np\n",
        "\n",
        "# 데이터를 차트나 플롯으로 그려 주는 라이브러리\n",
        "import matplotlib.pyplot as plt\n",
        "\n",
        "# 데이터 분석 및 조작을 위한 라이브러리\n",
        "import pandas as pd\n",
        "\n",
        "# 모델 성능 평가\n",
        "from sklearn import metrics\n",
        "\n",
        "\n",
        "# 데이터 셋에 열(column) 이름 할당\n",
        "names = ['sepal-length', 'sepal-width', 'petal-length', 'petal-width', 'Class']\n",
        "\n",
        "\n",
        "# 데이터를 판다스 프레임워크에 저장, 경로는 수정\n",
        "dataset = load_iris()\n",
        "\n",
        "# dataset을 DataFrame으로 변환\n",
        "df = pd.DataFrame(data= np.c_[dataset['data'], dataset['target']],\n",
        "                     columns= dataset['feature_names'] + ['target'])\n",
        "\n",
        "#훈련과 검증 데이터셋 분리\n",
        "# 모든 행을 사용하지만, 열(컬럼)은 뒤에서 하나를 뺀 값을 가져와서 X에 저장\n",
        "X = df.iloc[:, :-1].values\n",
        "\n",
        "# 모든 행을 사용하지만 열은 앞에서 다섯 번째 값만 가져와서 y에 저장\n",
        "y = df.iloc[:, 4].values\n",
        "\n",
        "from sklearn.model_selection import train_test_split\n",
        "\n",
        "# X, y를 사용하여 훈련과 검증 데이터셋으롭 분리하며, 검증 세트의 비율은 20%만 사용\n",
        "X_train, X_test, y_train, y_test = train_test_split(X, y, test_size = 0.2)\n",
        "\n",
        "from sklearn.preprocessing import StandardScaler\n",
        "\n",
        "# 특성 스케일링(scaling), 평균이 0, 표준편차가 1이 되도록 변환\n",
        "s = StandardScaler()\n",
        "\n",
        "# 훈련 데이터를 사용하여 스케일러를 fitting합니다.\n",
        "X_train = s.fit_transform(X_train)\n",
        "\n",
        "# fitting된 스케일러를 사용하여 검증 데이터를 transform 합니다.\n",
        "X_test = s.transform(X_test) # X_Test를 X_test로 변경\n",
        "\n",
        "#모델 생성 및 훈련\n",
        "from sklearn.neighbors import KNeighborsClassifier\n",
        "\n",
        "# K = 50인 K-최근접 이웃 모델 생성\n",
        "knn = KNeighborsClassifier(n_neighbors = 50)\n",
        "\n",
        "# 모델 훈련\n",
        "knn.fit(X_train, y_train)\n",
        "\n",
        "#모델 정확도 측정\n",
        "from sklearn.metrics import accuracy_score\n",
        "\n",
        "y_pred = knn.predict(X_test)\n",
        "print(\"정확도 : {}\".format(accuracy_score(y_test, y_pred)))\n",
        "\n",
        "#최적의 K 찾기\n",
        "#최적의 K 찾기\n",
        "k = 10\n",
        "acc_array = np.zeros(k)\n",
        "\n",
        "# K는 1에서 10까지 값을 취함\n",
        "for k in np.arange(1, k+1, 1):\n",
        "    # for문을 반복하면서 K값 변경\n",
        "    classifier = KNeighborsClassifier(n_neighbors = k).fit(X_train, y_train)\n",
        "\n",
        "    # this line was not properly indented\n",
        "    y_pred = classifier.predict(X_test)\n",
        "    acc = metrics.accuracy_score(y_test, y_pred)\n",
        "    acc_array[k-1] = acc\n",
        "\n",
        "# np.array(acc_array) was redundant. Also, index() is a list method, not an array method\n",
        "max_acc = np.max(acc_array)\n",
        "acc_list = list(acc_array)\n",
        "k = acc_list.index(max_acc)\n",
        "print(\"정확도\", max_acc, \"으로 최적의 k는\", k+1, \"입니다.\")\n"
      ]
    }
  ]
}