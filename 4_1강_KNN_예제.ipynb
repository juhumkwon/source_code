{
  "nbformat": 4,
  "nbformat_minor": 0,
  "metadata": {
    "colab": {
      "provenance": [],
      "authorship_tag": "ABX9TyMM+fwiA7uvbZ/PZOc7Bjvt",
      "include_colab_link": true
    },
    "kernelspec": {
      "name": "python3",
      "display_name": "Python 3"
    },
    "language_info": {
      "name": "python"
    }
  },
  "cells": [
    {
      "cell_type": "markdown",
      "metadata": {
        "id": "view-in-github",
        "colab_type": "text"
      },
      "source": [
        "<a href=\"https://colab.research.google.com/github/juhumkwon/source_code/blob/main/4_1%EA%B0%95_KNN_%EC%98%88%EC%A0%9C.ipynb\" target=\"_parent\"><img src=\"https://colab.research.google.com/assets/colab-badge.svg\" alt=\"Open In Colab\"/></a>"
      ]
    },
    {
      "cell_type": "code",
      "execution_count": 1,
      "metadata": {
        "colab": {
          "base_uri": "https://localhost:8080/"
        },
        "id": "Mi1HFoSUdi_0",
        "outputId": "be730275-8f24-47f7-f7bf-3f4b106a8587"
      },
      "outputs": [
        {
          "output_type": "stream",
          "name": "stdout",
          "text": [
            "정확도 : 0.9333333333333333\n",
            "정확도 0.9666666666666667 으로 최적의 k는 10 입니다.\n"
          ]
        }
      ],
      "source": [
        "#출처 : https://github.com/gilbutITbook/080263/tree/master/chap3/data/titanic\n",
        "# K-최근접 이웃\n",
        "\n",
        "from sklearn.datasets import load_iris\n",
        "\n",
        "# 라이브러리 호출 및 데이터 준비\n",
        "# 벡터 및 행렬의 연산 처리를 위한 라이브러리\n",
        "import numpy as np\n",
        "\n",
        "# 데이터를 차트나 플롯으로 그려 주는 라이브러리\n",
        "import matplotlib.pyplot as plt\n",
        "\n",
        "# 데이터 분석 및 조작을 위한 라이브러리\n",
        "import pandas as pd\n",
        "\n",
        "# 모델 성능 평가, 머신러닝 알고리즘\n",
        "from sklearn import metrics\n",
        "\n",
        "\n",
        "# 데이터 셋에 열(column) 이름 할당\n",
        "names = ['sepal-length', 'sepal-width', 'petal-length', 'petal-width', 'Class']\n",
        "\n",
        "\n",
        "# 데이터를 판다스 프레임워크에 저장, 경로는 수정\n",
        "dataset = load_iris()\n",
        "\n",
        "# dataset을 DataFrame으로 변환\n",
        "df = pd.DataFrame(data= np.c_[dataset['data'], dataset['target']],\n",
        "                     columns= dataset['feature_names'] + ['target'])\n",
        "\n",
        "#훈련과 검증 데이터셋 분리\n",
        "# 모든 행을 사용하지만, 열(컬럼)은 뒤에서 하나를 뺀 값을 가져와서 X에 저장\n",
        "X = df.iloc[:, :-1].values\n",
        "\n",
        "# 모든 행을 사용하지만 열은 앞에서 다섯 번째 값만 가져와서 y에 저장\n",
        "y = df.iloc[:, 4].values\n",
        "\n",
        "from sklearn.model_selection import train_test_split\n",
        "\n",
        "# X, y를 사용하여 훈련과 검증 데이터셋으롭 분리하며, 검증 세트의 비율은 20%만 사용\n",
        "X_train, X_test, y_train, y_test = train_test_split(X, y, test_size = 0.2)\n",
        "\n",
        "from sklearn.preprocessing import StandardScaler\n",
        "\n",
        "# 특성 스케일링(scaling), 평균이 0, 표준편차가 1이 되도록 변환\n",
        "s = StandardScaler()\n",
        "\n",
        "# 훈련 데이터를 사용하여 스케일러를 fitting합니다.\n",
        "X_train = s.fit_transform(X_train)\n",
        "\n",
        "# fitting된 스케일러를 사용하여 검증 데이터를 transform 합니다.\n",
        "X_test = s.transform(X_test) # X_Test를 X_test로 변경\n",
        "\n",
        "#모델 생성 및 훈련\n",
        "from sklearn.neighbors import KNeighborsClassifier\n",
        "\n",
        "# K = 50인 K-최근접 이웃 모델 생성\n",
        "knn = KNeighborsClassifier(n_neighbors = 50)\n",
        "\n",
        "# 모델 훈련\n",
        "knn.fit(X_train, y_train)\n",
        "\n",
        "#모델 정확도 측정\n",
        "from sklearn.metrics import accuracy_score\n",
        "\n",
        "y_pred = knn.predict(X_test)\n",
        "print(\"정확도 : {}\".format(accuracy_score(y_test, y_pred)))\n",
        "\n",
        "#최적의 K 찾기\n",
        "#최적의 K 찾기\n",
        "k = 10\n",
        "acc_array = np.zeros(k)\n",
        "\n",
        "# K는 1에서 10까지 값을 취함\n",
        "for k in np.arange(1, k+1, 1):\n",
        "    # for문을 반복하면서 K값 변경\n",
        "    classifier = KNeighborsClassifier(n_neighbors = k).fit(X_train, y_train)\n",
        "\n",
        "    # this line was not properly indented\n",
        "    y_pred = classifier.predict(X_test)\n",
        "    acc = metrics.accuracy_score(y_test, y_pred)\n",
        "    acc_array[k-1] = acc\n",
        "\n",
        "# np.array(acc_array) was redundant. Also, index() is a list method, not an array method\n",
        "max_acc = np.max(acc_array)\n",
        "acc_list = list(acc_array)\n",
        "k = acc_list.index(max_acc)\n",
        "print(\"정확도\", max_acc, \"으로 최적의 k는\", k+1, \"입니다.\")\n"
      ]
    },
    {
      "cell_type": "code",
      "source": [
        "import pandas as pd\n",
        "import numpy as np\n",
        "from sklearn import datasets\n",
        "\n",
        "# 붓꽃 데이터셋 로드\n",
        "dataset = datasets.load_iris()\n",
        "\n",
        "\"\"\"\n",
        "코드 설명\n",
        "1. np.c_: NumPy의 c_는 배열을 수평으로(concatenate) 결합하는 기능을 제공합니다.\n",
        "   이 경우 dataset['data']와 dataset['target']를 결합하여 두 개의 배열을 하나로 만듭니다.\n",
        "   dataset['data']는 특성(features) 데이터를 포함하고, dataset['target']는 레이블을 포함합니다.\n",
        "\n",
        "2. pd.DataFrame(...): Pandas의 DataFrame 생성자입니다. 결합된 배열을 기반으로 새로운 데이터프레임을 생성합니다.\n",
        "\n",
        "3. columns=dataset['feature_names'] + ['target']: 데이터프레임의 열 이름을 지정합니다.\n",
        "   dataset['feature_names']는 특성의 이름을 포함하고, 마지막에 ['target']을 추가하여 레이블 열을 포함합니다.\n",
        "\"\"\"\n",
        "# DataFrame 생성\n",
        "df = pd.DataFrame(data=np.c_[dataset['data'], dataset['target']],\n",
        "                  columns=dataset['feature_names'] + ['target'])\n",
        "\n",
        "# 결과 출력\n",
        "print(df.head())  # 데이터프레임의 상위 5개 행 출력\n"
      ],
      "metadata": {
        "id": "aRvOChCWstwV",
        "outputId": "caa66575-99f9-4fec-c0de-62fff36b4519",
        "colab": {
          "base_uri": "https://localhost:8080/"
        }
      },
      "execution_count": null,
      "outputs": [
        {
          "output_type": "stream",
          "name": "stdout",
          "text": [
            "   sepal length (cm)  sepal width (cm)  petal length (cm)  petal width (cm)  \\\n",
            "0                5.1               3.5                1.4               0.2   \n",
            "1                4.9               3.0                1.4               0.2   \n",
            "2                4.7               3.2                1.3               0.2   \n",
            "3                4.6               3.1                1.5               0.2   \n",
            "4                5.0               3.6                1.4               0.2   \n",
            "\n",
            "   target  \n",
            "0     0.0  \n",
            "1     0.0  \n",
            "2     0.0  \n",
            "3     0.0  \n",
            "4     0.0  \n"
          ]
        }
      ]
    },
    {
      "cell_type": "code",
      "source": [
        "import numpy as np\n",
        "\n",
        "# k의 값 설정\n",
        "k = 5\n",
        "\n",
        "\"\"\"\n",
        "np.zeros(k): NumPy의 zeros 함수를 사용하여 길이가 k인 배열을 생성하고, 모든 요소를 0으로 초기화합니다.\n",
        "예를 들어, k=5일 경우, acc_array는 [0.0, 0.0, 0.0, 0.0, 0.0]와 같은 배열이 됩니다.\n",
        "\"\"\"\n",
        "# 정확도 배열 초기화\n",
        "acc_array = np.zeros(k)\n",
        "\n",
        "# 가상의 정확도 값을 배열에 저장\n",
        "for i in range(k):\n",
        "    acc_array[i] = (i + 1) * 0.1  # 임의의 값 저장 (예: 0.1, 0.2, ..., 0.5)\n",
        "\n",
        "print(\"Accuracy Array:\", acc_array)\n"
      ],
      "metadata": {
        "id": "EcfC_aLcr8KJ",
        "outputId": "f10623ae-ee22-4909-bf85-cdc71450b677",
        "colab": {
          "base_uri": "https://localhost:8080/"
        }
      },
      "execution_count": null,
      "outputs": [
        {
          "output_type": "stream",
          "name": "stdout",
          "text": [
            "Accuracy Array: [0.1 0.2 0.3 0.4 0.5]\n"
          ]
        }
      ]
    }
  ]
}