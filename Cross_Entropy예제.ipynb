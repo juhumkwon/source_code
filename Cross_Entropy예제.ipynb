{
  "nbformat": 4,
  "nbformat_minor": 0,
  "metadata": {
    "colab": {
      "provenance": [],
      "authorship_tag": "ABX9TyPtlRlR3kZPQ97/ngI0F1Zz",
      "include_colab_link": true
    },
    "kernelspec": {
      "name": "python3",
      "display_name": "Python 3"
    },
    "language_info": {
      "name": "python"
    }
  },
  "cells": [
    {
      "cell_type": "markdown",
      "metadata": {
        "id": "view-in-github",
        "colab_type": "text"
      },
      "source": [
        "<a href=\"https://colab.research.google.com/github/juhumkwon/source_code/blob/main/Cross_Entropy%EC%98%88%EC%A0%9C.ipynb\" target=\"_parent\"><img src=\"https://colab.research.google.com/assets/colab-badge.svg\" alt=\"Open In Colab\"/></a>"
      ]
    },
    {
      "cell_type": "code",
      "execution_count": 7,
      "metadata": {
        "colab": {
          "base_uri": "https://localhost:8080/"
        },
        "id": "jo6jw0z3fivj",
        "outputId": "2130990c-2e01-4904-c52c-ab1d8700d6b2"
      },
      "outputs": [
        {
          "output_type": "stream",
          "name": "stdout",
          "text": [
            "Binary Cross-Entropy Loss: 0.22839302\n",
            "Categorical Cross-Entropy Loss: 0.63648283\n"
          ]
        }
      ],
      "source": [
        "import tensorflow as tf\n",
        "\n",
        "# 모델의 예측값 (출력 확률)\n",
        "fake_output = tf.constant([[0.9], [0.8], [0.7]])\n",
        "\n",
        "# fake_output과 같은 모양(shape)을 가진 텐서를 생성, 타겟 레이블 (여기서는 모두 1)\n",
        "y_true = tf.ones_like(fake_output)\n",
        "\n",
        "# Binary Cross-Entropy 손실 함수\n",
        "loss_object = tf.keras.losses.BinaryCrossentropy()\n",
        "loss_value = loss_object(y_true, fake_output)\n",
        "print(\"Binary Cross-Entropy Loss:\", loss_value.numpy())\n",
        "\n",
        "# 결과 : Binary Cross-Entropy Loss: 0.22839302\n",
        "\n",
        "import tensorflow as tf\n",
        "\n",
        "# 모델의 예측값 (소프트맥스 확률 분포)\n",
        "fake_output = tf.constant([[0.1, 0.7, 0.2], [0.3, 0.4, 0.3]])\n",
        "\n",
        "# 타겟 레이블 (여기서는 두 번째 클래스가 정답)\n",
        "y_true = tf.constant([[0, 1, 0], [0, 1, 0]])\n",
        "\n",
        "# Categorical Cross-Entropy 손실 함수\n",
        "loss_object = tf.keras.losses.CategoricalCrossentropy()\n",
        "loss_value = loss_object(y_true, fake_output)\n",
        "print(\"Categorical Cross-Entropy Loss:\", loss_value.numpy())\n",
        "\n"
      ]
    }
  ]
}