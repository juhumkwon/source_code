{
  "nbformat": 4,
  "nbformat_minor": 0,
  "metadata": {
    "colab": {
      "provenance": [],
      "authorship_tag": "ABX9TyMSXpeZElcYn77aMF1/APzF",
      "include_colab_link": true
    },
    "kernelspec": {
      "name": "python3",
      "display_name": "Python 3"
    },
    "language_info": {
      "name": "python"
    }
  },
  "cells": [
    {
      "cell_type": "markdown",
      "metadata": {
        "id": "view-in-github",
        "colab_type": "text"
      },
      "source": [
        "<a href=\"https://colab.research.google.com/github/juhumkwon/source_code/blob/main/GradientTape%EC%98%88%EC%A0%9C.ipynb\" target=\"_parent\"><img src=\"https://colab.research.google.com/assets/colab-badge.svg\" alt=\"Open In Colab\"/></a>"
      ]
    },
    {
      "cell_type": "code",
      "execution_count": 13,
      "metadata": {
        "colab": {
          "base_uri": "https://localhost:8080/"
        },
        "id": "VieaSn8rEKYJ",
        "outputId": "62731147-d00e-4c39-a433-1ee3daefdd9a"
      },
      "outputs": [
        {
          "output_type": "stream",
          "name": "stdout",
          "text": [
            "6.0\n",
            "loss= 1.645\n",
            "[<tf.Tensor: shape=(2, 2), dtype=float32, numpy=\n",
            "array([[-0.115, -0.245],\n",
            "       [-0.255, -0.585]], dtype=float32)>, <tf.Tensor: shape=(2, 2), dtype=float32, numpy=\n",
            "array([[-2.4      , -3.1999998],\n",
            "       [-3.3      , -4.6      ]], dtype=float32)>]\n"
          ]
        }
      ],
      "source": [
        "# 예제 1\n",
        "import tensorflow as tf\n",
        "\n",
        "# 정의할 모델 파라미터\n",
        "x = tf.Variable(3.0)\n",
        "\n",
        "# GradientTape을 사용한 연산\n",
        "with tf.GradientTape() as tape:\n",
        "    y = x**2  # 단순한 함수 예시: y = x^2\n",
        "\n",
        "# 그래디언트 계산\n",
        "dy_dx = tape.gradient(y, x)\n",
        "print(dy_dx.numpy())  # 출력: 6.0, x=3일 때 y=x^2의 미분값\n",
        "\n",
        "\n",
        "# 예제 2\n",
        "import tensorflow as tf\n",
        "\n",
        "# 모델 파라미터와 입력 데이터\n",
        "x = tf.Variable([[1.0, 2.0], [3.0, 4.0]])\n",
        "w = tf.Variable([[0.1, 0.2], [0.3, 0.4]])\n",
        "\n",
        "with tf.GradientTape() as tape:\n",
        "    # 모델 연산\n",
        "    y = tf.matmul(x, w)\n",
        "    loss = tf.reduce_mean(tf.square(y - [[1.0, 2.0], [3.0, 4.0]]))  # MSE loss\n",
        "    print(\"loss=\", loss.numpy())\n",
        "\n",
        "# 그래디언트 계산\n",
        "dL_dx = tape.gradient(loss, [x, w])\n",
        "print(dL_dx)"
      ]
    }
  ]
}