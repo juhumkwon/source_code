{
  "nbformat": 4,
  "nbformat_minor": 0,
  "metadata": {
    "colab": {
      "provenance": [],
      "authorship_tag": "ABX9TyP6vZsKtX50FrCRFcFc0ke9",
      "include_colab_link": true
    },
    "kernelspec": {
      "name": "python3",
      "display_name": "Python 3"
    },
    "language_info": {
      "name": "python"
    }
  },
  "cells": [
    {
      "cell_type": "markdown",
      "metadata": {
        "id": "view-in-github",
        "colab_type": "text"
      },
      "source": [
        "<a href=\"https://colab.research.google.com/github/juhumkwon/source_code/blob/main/GradientTape%EC%98%88%EC%A0%9C.ipynb\" target=\"_parent\"><img src=\"https://colab.research.google.com/assets/colab-badge.svg\" alt=\"Open In Colab\"/></a>"
      ]
    },
    {
      "cell_type": "code",
      "execution_count": 3,
      "metadata": {
        "colab": {
          "base_uri": "https://localhost:8080/"
        },
        "id": "204gAwM9vidV",
        "outputId": "8b4d4a94-f2bc-40fb-f3dd-c1a44bea72a4"
      },
      "outputs": [
        {
          "output_type": "stream",
          "name": "stdout",
          "text": [
            "Updated weight: 4.9\n"
          ]
        }
      ],
      "source": [
        "\n",
        "import tensorflow as tf\n",
        "\n",
        "# 모델의 가중치 정의\n",
        "w = tf.Variable(5.0)\n",
        "\n",
        "# 옵티마이저 정의 (예: SGD)\n",
        "optimizer = tf.keras.optimizers.SGD(learning_rate=0.01)\n",
        "\n",
        "# 손실 함수 정의 (예: w의 제곱)\n",
        "def loss_fn():\n",
        "    return w ** 2\n",
        "\n",
        "# GradientTape로 기울기 계산\n",
        "with tf.GradientTape() as tape:\n",
        "    loss = loss_fn()\n",
        "\n",
        "# w에 대한 기울기 계산\n",
        "gradients = tape.gradient(loss, [w])\n",
        "\n",
        "# apply_gradients를 통해 기울기 적용 (가중치 업데이트)\n",
        "optimizer.apply_gradients(zip(gradients, [w]))\n",
        "\n",
        "# 결과 출력\n",
        "print(\"Updated weight:\", w.numpy())"
      ]
    }
  ]
}