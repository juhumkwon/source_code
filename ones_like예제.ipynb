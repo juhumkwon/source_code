{
  "nbformat": 4,
  "nbformat_minor": 0,
  "metadata": {
    "colab": {
      "provenance": [],
      "authorship_tag": "ABX9TyP5yZkLttDTLUu2hyzG/bKa",
      "include_colab_link": true
    },
    "kernelspec": {
      "name": "python3",
      "display_name": "Python 3"
    },
    "language_info": {
      "name": "python"
    }
  },
  "cells": [
    {
      "cell_type": "markdown",
      "metadata": {
        "id": "view-in-github",
        "colab_type": "text"
      },
      "source": [
        "<a href=\"https://colab.research.google.com/github/juhumkwon/source_code/blob/main/ones_like%EC%98%88%EC%A0%9C.ipynb\" target=\"_parent\"><img src=\"https://colab.research.google.com/assets/colab-badge.svg\" alt=\"Open In Colab\"/></a>"
      ]
    },
    {
      "cell_type": "code",
      "execution_count": 2,
      "metadata": {
        "colab": {
          "base_uri": "https://localhost:8080/"
        },
        "id": "KEVn9BFAhgvQ",
        "outputId": "9aa58c93-de51-4c94-d124-3bc86a840a45"
      },
      "outputs": [
        {
          "output_type": "stream",
          "name": "stdout",
          "text": [
            "tf.Tensor(\n",
            "[[1. 1.]\n",
            " [1. 1.]], shape=(2, 2), dtype=float32)\n"
          ]
        }
      ],
      "source": [
        "import tensorflow as tf\n",
        "\n",
        "# 예제 텐서 (모델의 출력값 등)\n",
        "fake_output = tf.constant([[0.1, 0.2], [0.3, 0.4]])\n",
        "\n",
        "# fake_output과 동일한 모양을 가지며 값이 모두 1인 텐서를 생성\n",
        "ones_tensor = tf.ones_like(fake_output)\n",
        "\n",
        "print(ones_tensor)"
      ]
    }
  ]
}