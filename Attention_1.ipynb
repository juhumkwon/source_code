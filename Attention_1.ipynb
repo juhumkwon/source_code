{
  "nbformat": 4,
  "nbformat_minor": 0,
  "metadata": {
    "colab": {
      "provenance": [],
      "authorship_tag": "ABX9TyNYyOzPnsTDs0w6rNVsK3nO",
      "include_colab_link": true
    },
    "kernelspec": {
      "name": "python3",
      "display_name": "Python 3"
    },
    "language_info": {
      "name": "python"
    }
  },
  "cells": [
    {
      "cell_type": "markdown",
      "metadata": {
        "id": "view-in-github",
        "colab_type": "text"
      },
      "source": [
        "<a href=\"https://colab.research.google.com/github/juhumkwon/source_code/blob/main/Attention_1.ipynb\" target=\"_parent\"><img src=\"https://colab.research.google.com/assets/colab-badge.svg\" alt=\"Open In Colab\"/></a>"
      ]
    },
    {
      "cell_type": "code",
      "execution_count": 1,
      "metadata": {
        "colab": {
          "base_uri": "https://localhost:8080/"
        },
        "id": "inPJ2zgcbIiR",
        "outputId": "2e1fd3e3-0c9b-4487-afc2-932221079020"
      },
      "outputs": [
        {
          "output_type": "stream",
          "name": "stdout",
          "text": [
            "Attention Output:\n",
            "[[[0.3        0.40000004]\n",
            "  [0.32028684 0.42028683]\n",
            "  [0.3533913  0.4533913 ]]]\n",
            "\n",
            "Attention Weights:\n",
            "[[[0.42231882 0.15536241 0.42231882]\n",
            "  [0.01587624 0.8668133  0.11731042]\n",
            "  [0.15536241 0.42231882 0.42231882]]]\n"
          ]
        }
      ],
      "source": [
        "\n",
        "import tensorflow as tf\n",
        "import numpy as np\n",
        "\n",
        "# Scaled Dot-Product Attention 함수\n",
        "def scaled_dot_product_attention(Q, K, V, mask=None):\n",
        "    matmul_qk = tf.matmul(Q, K, transpose_b=True)  # [batch, seq_len_q, seq_len_k]\n",
        "\n",
        "    # scale by sqrt(dk)\n",
        "    dk = tf.cast(tf.shape(K)[-1], tf.float32)\n",
        "    scaled_attention_logits = matmul_qk / tf.math.sqrt(dk)\n",
        "\n",
        "    if mask is not None:\n",
        "        scaled_attention_logits += (mask * -1e9)\n",
        "\n",
        "    # softmax\n",
        "    attention_weights = tf.nn.softmax(scaled_attention_logits, axis=-1)\n",
        "\n",
        "    # Attention output\n",
        "    output = tf.matmul(attention_weights, V)  # [batch, seq_len_q, depth_v]\n",
        "    return output, attention_weights\n",
        "\n",
        "# 예제 입력 (batch=1, seq_len=3, depth=4)\n",
        "Q = tf.constant([[[1.0, 0.0, 1.0, 0.0],\n",
        "                  [0.0, 2.0, 0.0, 2.0],\n",
        "                  [1.0, 1.0, 1.0, 1.0]]])  # (1, 3, 4)\n",
        "\n",
        "K = tf.constant([[[1.0, 0.0, 1.0, 0.0],\n",
        "                  [0.0, 2.0, 0.0, 2.0],\n",
        "                  [1.0, 1.0, 1.0, 1.0]]])  # (1, 3, 4)\n",
        "\n",
        "V = tf.constant([[[0.1, 0.2],\n",
        "                  [0.3, 0.4],\n",
        "                  [0.5, 0.6]]])  # (1, 3, 2)\n",
        "\n",
        "output, attn_weights = scaled_dot_product_attention(Q, K, V)\n",
        "\n",
        "print(\"Attention Output:\")\n",
        "print(output.numpy())\n",
        "\n",
        "print(\"\\nAttention Weights:\")\n",
        "print(attn_weights.numpy())"
      ]
    }
  ]
}