{
  "nbformat": 4,
  "nbformat_minor": 0,
  "metadata": {
    "colab": {
      "provenance": [],
      "authorship_tag": "ABX9TyNX7soHkR5tXilxUdGHrshL",
      "include_colab_link": true
    },
    "kernelspec": {
      "name": "python3",
      "display_name": "Python 3"
    },
    "language_info": {
      "name": "python"
    }
  },
  "cells": [
    {
      "cell_type": "markdown",
      "metadata": {
        "id": "view-in-github",
        "colab_type": "text"
      },
      "source": [
        "<a href=\"https://colab.research.google.com/github/juhumkwon/source_code/blob/main/U_Net%EC%98%88%EC%A0%9C(simple).ipynb\" target=\"_parent\"><img src=\"https://colab.research.google.com/assets/colab-badge.svg\" alt=\"Open In Colab\"/></a>"
      ]
    },
    {
      "cell_type": "code",
      "execution_count": 1,
      "metadata": {
        "colab": {
          "base_uri": "https://localhost:8080/"
        },
        "id": "kIeLq5pwbl_l",
        "outputId": "5d519854-bc1a-468c-9745-9b62c6b4dee8"
      },
      "outputs": [
        {
          "output_type": "stream",
          "name": "stdout",
          "text": [
            "Epoch 1/5\n"
          ]
        },
        {
          "output_type": "stream",
          "name": "stderr",
          "text": [
            "/usr/local/lib/python3.11/dist-packages/keras/src/models/functional.py:237: UserWarning: The structure of `inputs` doesn't match the expected structure.\n",
            "Expected: ['keras_tensor']\n",
            "Received: inputs=Tensor(shape=(None, 128, 128, 1))\n",
            "  warnings.warn(msg)\n"
          ]
        },
        {
          "output_type": "stream",
          "name": "stdout",
          "text": [
            "\u001b[1m7/7\u001b[0m \u001b[32m━━━━━━━━━━━━━━━━━━━━\u001b[0m\u001b[37m\u001b[0m \u001b[1m19s\u001b[0m 2s/step - accuracy: 0.5001 - loss: 0.6931\n",
            "Epoch 2/5\n",
            "\u001b[1m7/7\u001b[0m \u001b[32m━━━━━━━━━━━━━━━━━━━━\u001b[0m\u001b[37m\u001b[0m \u001b[1m11s\u001b[0m 1s/step - accuracy: 0.5006 - loss: 0.6931\n",
            "Epoch 3/5\n",
            "\u001b[1m7/7\u001b[0m \u001b[32m━━━━━━━━━━━━━━━━━━━━\u001b[0m\u001b[37m\u001b[0m \u001b[1m21s\u001b[0m 2s/step - accuracy: 0.5002 - loss: 0.6931\n",
            "Epoch 4/5\n",
            "\u001b[1m7/7\u001b[0m \u001b[32m━━━━━━━━━━━━━━━━━━━━\u001b[0m\u001b[37m\u001b[0m \u001b[1m19s\u001b[0m 1s/step - accuracy: 0.5005 - loss: 0.6931\n",
            "Epoch 5/5\n",
            "\u001b[1m7/7\u001b[0m \u001b[32m━━━━━━━━━━━━━━━━━━━━\u001b[0m\u001b[37m\u001b[0m \u001b[1m11s\u001b[0m 1s/step - accuracy: 0.5008 - loss: 0.6931\n",
            "\u001b[1m1/1\u001b[0m \u001b[32m━━━━━━━━━━━━━━━━━━━━\u001b[0m\u001b[37m\u001b[0m \u001b[1m0s\u001b[0m 220ms/step\n",
            "[[[[0.50042826]\n",
            "   [0.49954382]\n",
            "   [0.49970308]\n",
            "   ...\n",
            "   [0.4995854 ]\n",
            "   [0.49981755]\n",
            "   [0.4995023 ]]\n",
            "\n",
            "  [[0.5015405 ]\n",
            "   [0.5005015 ]\n",
            "   [0.5015388 ]\n",
            "   ...\n",
            "   [0.5001457 ]\n",
            "   [0.50121033]\n",
            "   [0.49957225]]\n",
            "\n",
            "  [[0.50093734]\n",
            "   [0.500383  ]\n",
            "   [0.5005835 ]\n",
            "   ...\n",
            "   [0.50004375]\n",
            "   [0.50048643]\n",
            "   [0.49913678]]\n",
            "\n",
            "  ...\n",
            "\n",
            "  [[0.5015099 ]\n",
            "   [0.50016296]\n",
            "   [0.5010781 ]\n",
            "   ...\n",
            "   [0.5000802 ]\n",
            "   [0.50079596]\n",
            "   [0.49945456]]\n",
            "\n",
            "  [[0.5011022 ]\n",
            "   [0.5004759 ]\n",
            "   [0.50088257]\n",
            "   ...\n",
            "   [0.5003183 ]\n",
            "   [0.5005534 ]\n",
            "   [0.49956036]]\n",
            "\n",
            "  [[0.5009065 ]\n",
            "   [0.5004988 ]\n",
            "   [0.5008335 ]\n",
            "   ...\n",
            "   [0.50037193]\n",
            "   [0.5005721 ]\n",
            "   [0.49986333]]]]\n"
          ]
        },
        {
          "output_type": "stream",
          "name": "stderr",
          "text": [
            "/usr/local/lib/python3.11/dist-packages/keras/src/models/functional.py:237: UserWarning: The structure of `inputs` doesn't match the expected structure.\n",
            "Expected: ['keras_tensor']\n",
            "Received: inputs=Tensor(shape=(1, 128, 128, 1))\n",
            "  warnings.warn(msg)\n"
          ]
        }
      ],
      "source": [
        "\n",
        "import numpy as np\n",
        "import tensorflow as tf\n",
        "from tensorflow.keras import layers, models\n",
        "\n",
        "# 데이터 준비\n",
        "X_train = np.random.rand(100, 128, 128, 1)  # 100개의 이미지, 128x128 크기, 1 채널\n",
        "y_train = np.random.randint(0, 2, size=(100, 128, 128, 1))  # 이진 세그멘테이션 마스크\n",
        "X_train = X_train.astype('float32') / 255\n",
        "y_train = y_train.astype('float32')\n",
        "\n",
        "# U-Net 모델 정의\n",
        "def build_unet(input_shape):\n",
        "    inputs = layers.Input(input_shape)\n",
        "\n",
        "    # Encoder (하향 패스)\n",
        "    c1 = layers.Conv2D(16, (3, 3), activation='relu', padding='same')(inputs)\n",
        "    c1 = layers.Conv2D(16, (3, 3), activation='relu', padding='same')(c1)\n",
        "    p1 = layers.MaxPooling2D((2, 2))(c1)\n",
        "\n",
        "    c2 = layers.Conv2D(32, (3, 3), activation='relu', padding='same')(p1)\n",
        "    c2 = layers.Conv2D(32, (3, 3), activation='relu', padding='same')(c2)\n",
        "    p2 = layers.MaxPooling2D((2, 2))(c2)\n",
        "\n",
        "    # Bridge\n",
        "    c3 = layers.Conv2D(64, (3, 3), activation='relu', padding='same')(p2)\n",
        "    c3 = layers.Conv2D(64, (3, 3), activation='relu', padding='same')(c3)\n",
        "\n",
        "    # Decoder (상향 패스)\n",
        "    u1 = layers.Conv2DTranspose(32, (2, 2), strides=(2, 2), padding='same')(c3)\n",
        "    u1 = layers.concatenate([u1, c2])\n",
        "    c4 = layers.Conv2D(32, (3, 3), activation='relu', padding='same')(u1)\n",
        "    c4 = layers.Conv2D(32, (3, 3), activation='relu', padding='same')(c4)\n",
        "\n",
        "    u2 = layers.Conv2DTranspose(16, (2, 2), strides=(2, 2), padding='same')(c4)\n",
        "    u2 = layers.concatenate([u2, c1])\n",
        "    c5 = layers.Conv2D(16, (3, 3), activation='relu', padding='same')(u2)\n",
        "    c5 = layers.Conv2D(16, (3, 3), activation='relu', padding='same')(c5)\n",
        "\n",
        "    outputs = layers.Conv2D(1, (1, 1), activation='sigmoid')(c5)\n",
        "\n",
        "    model = models.Model(inputs=[inputs], outputs=[outputs])\n",
        "    return model\n",
        "\n",
        "# 모델 생성, 컴파일\n",
        "model = build_unet((128, 128, 1))\n",
        "model.compile(optimizer='adam', loss='binary_crossentropy', metrics=['accuracy'])\n",
        "\n",
        "# 학습\n",
        "model.fit(X_train, y_train, epochs=5, batch_size=16)\n",
        "\n",
        "# 추론\n",
        "X_test = np.random.rand(1, 128, 128, 1)  # 예시 데이터\n",
        "X_test = X_test.astype('float32') / 255\n",
        "\n",
        "predictions = model.predict(X_test)\n",
        "print(predictions)"
      ]
    }
  ]
}