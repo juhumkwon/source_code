{
  "nbformat": 4,
  "nbformat_minor": 0,
  "metadata": {
    "colab": {
      "provenance": [],
      "authorship_tag": "ABX9TyMGb/3VuwFd35Fk+PSKl2lq",
      "include_colab_link": true
    },
    "kernelspec": {
      "name": "python3",
      "display_name": "Python 3"
    },
    "language_info": {
      "name": "python"
    }
  },
  "cells": [
    {
      "cell_type": "markdown",
      "metadata": {
        "id": "view-in-github",
        "colab_type": "text"
      },
      "source": [
        "<a href=\"https://colab.research.google.com/github/juhumkwon/source_code/blob/main/Prompt_templete.ipynb\" target=\"_parent\"><img src=\"https://colab.research.google.com/assets/colab-badge.svg\" alt=\"Open In Colab\"/></a>"
      ]
    },
    {
      "cell_type": "code",
      "execution_count": 1,
      "metadata": {
        "id": "ArtIxF7f5xsd",
        "outputId": "232a46ad-ec83-4e0c-9100-54e0cdd52c02",
        "colab": {
          "base_uri": "https://localhost:8080/"
        }
      },
      "outputs": [
        {
          "output_type": "stream",
          "name": "stdout",
          "text": [
            "\n",
            "<prompt1>\n",
            "    <h1>번역 요청</h1>\n",
            "    <p>문장: 나는 학교에 간다</p>\n",
            "    <p>목표 언어: 영어</p>\n",
            "</prompt1>\n",
            "\n"
          ]
        }
      ],
      "source": [
        "\n",
        "template = \"\"\"\n",
        "<prompt1>\n",
        "    <h1>{task}</h1>\n",
        "    <p>문장: {sentence}</p>\n",
        "    <p>목표 언어: {language}</p>\n",
        "</prompt1>\n",
        "\"\"\"\n",
        "\n",
        "prompt = template.format(task=\"번역 요청\", sentence=\"나는 학교에 간다\", language=\"영어\")\n",
        "print(prompt)"
      ]
    }
  ]
}