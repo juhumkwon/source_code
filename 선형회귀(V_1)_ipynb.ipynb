{
  "cells": [
    {
      "cell_type": "code",
      "execution_count": null,
      "metadata": {
        "id": "i9k6e4n9Pw9l"
      },
      "outputs": [],
      "source": [
        "# Lab 2 Linear Regression\n",
        "\n",
        "import tensorflow.compat.v1 as tf\n",
        "tf.disable_v2_behavior()\n",
        "\n",
        "#import tensorflow as tf\n",
        "#tf.set.random.seed(777)  # for reproducibility\n",
        "\n",
        "# X and Y data\n",
        "x_train = [1, 2, 3]\n",
        "y_train = [1, 2, 3]\n",
        "\n",
        "# Try to find values for W and b to compute y_data = x_data * W + b\n",
        "# We know that W should be 1 and b should be 0\n",
        "# But let TensorFlow figure it out\n",
        "W = tf.Variable(tf.random.normal([1]), name=\"weight\")\n",
        "b = tf.Variable(tf.random.normal([1]), name=\"bias\")\n",
        "\n",
        "# Our hypothesis XW+b\n",
        "hypothesis = x_train * W + b\n",
        "# cost/loss function\n",
        "cost = tf.reduce_mean(tf.square(hypothesis - y_train))\n",
        "\n",
        "# optimizer\n",
        "#train = tf.train.GradientDescentOptimizer(learning_rate=0.01).minimize(cost)\n",
        "train = tf.compat.v1.train.GradientDescentOptimizer(learning_rate=0.01).minimize(cost)\n",
        "\n",
        "# Optimizer - Stochastic gradient descent - 확률적 경사 하강법\n",
        "#sgd = tf.keras.optimizers.SGD(learning_rate=0.01)\n",
        "\n",
        "# cost/loss funcion\n",
        "# loss를 mean_squared_error 방식을 사용한다는 의미로 mse 라고 써도 인식한다.\n",
        "#model.compile(loss='mean_squared_error', optimizer=sgd)\n",
        "\n",
        "\n",
        "\n",
        "# Launch the graph in a session.\n",
        "with tf.Session() as sess:\n",
        "    # Initializes global variables in the graph.\n",
        "    sess.run(tf.global_variables_initializer())\n",
        "\n",
        "    # Fit the line\n",
        "    for step in range(2001):\n",
        "        _, cost_val, W_val, b_val = sess.run([train, cost, W, b])\n",
        "\n",
        "        if step % 100 == 0:\n",
        "            print(step, cost_val, W_val, b_val)\n"
      ]
    }
  ],
  "metadata": {
    "colab": {
      "provenance": []
    },
    "kernelspec": {
      "display_name": "Python 3",
      "name": "python3"
    },
    "language_info": {
      "name": "python"
    }
  },
  "nbformat": 4,
  "nbformat_minor": 0
}
