{
  "nbformat": 4,
  "nbformat_minor": 0,
  "metadata": {
    "colab": {
      "provenance": [],
      "authorship_tag": "ABX9TyOcjI5iVJu138J6rk5l1OqP",
      "include_colab_link": true
    },
    "kernelspec": {
      "name": "python3",
      "display_name": "Python 3"
    },
    "language_info": {
      "name": "python"
    }
  },
  "cells": [
    {
      "cell_type": "markdown",
      "metadata": {
        "id": "view-in-github",
        "colab_type": "text"
      },
      "source": [
        "<a href=\"https://colab.research.google.com/github/juhumkwon/source_code/blob/main/4_2_SVM%EC%98%88%EC%A0%9C(1).ipynb\" target=\"_parent\"><img src=\"https://colab.research.google.com/assets/colab-badge.svg\" alt=\"Open In Colab\"/></a>"
      ]
    },
    {
      "cell_type": "code",
      "execution_count": 13,
      "metadata": {
        "colab": {
          "base_uri": "https://localhost:8080/"
        },
        "id": "unQNW-9HnWOh",
        "outputId": "1945b89b-a2d5-4eee-e68c-0683f2c74fdf"
      },
      "outputs": [
        {
          "output_type": "stream",
          "name": "stdout",
          "text": [
            "특성1 범위:  [ 4.3 , 7.9 ]\n",
            "특성2 범위:  [ 2.0 , 4.4 ]\n",
            "특성3 범위:  [ 1.1 , 6.9 ]\n",
            "특성4 범위:  [ 0.1 , 2.5 ]\n",
            "표준화된 특성1 범위:  [ -1.8792465963078706 , 2.4901534553875004 ]\n",
            "표준화된 특성2 범위:  [ -2.367905317140372 , 2.9765831729570222 ]\n",
            "표준화된 특성3 범위:  [ -1.507370451687161 , 1.7804071552519296 ]\n",
            "표준화된 특성4 범위:  [ -1.4483453802530968 , 1.7021339967324909 ]\n",
            "예측된 라벨: [1 0 2 2 0 2 0 1 0 2 0 1 2 2 2 2 0 0 0 1 1 1 2 2 0 2 1 1 0 1]\n",
            "ground-truth 라벨: [1 0 2 2 0 1 0 1 0 2 0 1 2 2 2 2 0 0 0 1 1 1 2 2 0 2 1 1 0 1]\n",
            "prediction accuracy: 0.97\n"
          ]
        }
      ],
      "source": [
        "from sklearn.datasets import load_iris\n",
        "\n",
        "iris_dataset = load_iris() # 붓꽃 데이터셋을 적재합니다.\n",
        "\n",
        "#print(iris_dataset)\n",
        "\n",
        "#2. 데이터셋을 훈련셋과 테스트셋으로 분리\n",
        "from sklearn.model_selection import train_test_split\n",
        "\n",
        "X_train, X_test, y_train, y_test = train_test_split(iris_dataset['data'], iris_dataset['target'], test_size = 0.2)\n",
        "# 데이터셋을 랜덤하게 80%의 훈련셋과 20%의 테스트셋으로 분리합니다.\n",
        "\n",
        "#3. 특성 스케일링(feature scaling)\n",
        "print(\"특성1 범위: \", \"[\", min(X_train[:, 0]), \",\", max(X_train[:, 0]), \"]\")\n",
        "print(\"특성2 범위: \", \"[\", min(X_train[:, 1]), \",\", max(X_train[:, 1]), \"]\")\n",
        "print(\"특성3 범위: \", \"[\", min(X_train[:, 2]), \",\", max(X_train[:, 2]), \"]\")\n",
        "print(\"특성4 범위: \", \"[\", min(X_train[:, 3]), \",\", max(X_train[:, 3]), \"]\")\n",
        "\n",
        "from sklearn.preprocessing import StandardScaler\n",
        "\n",
        "sc = StandardScaler()\n",
        "sc.fit(X_train)\n",
        "\n",
        "X_train_std = sc.transform(X_train)\n",
        "X_test_std = sc.transform(X_test)\n",
        "\n",
        "print(\"표준화된 특성1 범위: \", \"[\", min(X_train_std[:, 0]), \",\", max(X_train_std[:, 0]), \"]\")\n",
        "print(\"표준화된 특성2 범위: \", \"[\", min(X_train_std[:, 1]), \",\", max(X_train_std[:, 1]), \"]\")\n",
        "print(\"표준화된 특성3 범위: \", \"[\", min(X_train_std[:, 2]), \",\", max(X_train_std[:, 2]), \"]\")\n",
        "print(\"표준화된 특성4 범위: \", \"[\", min(X_train_std[:, 3]), \",\", max(X_train_std[:, 3]), \"]\")\n",
        "\n",
        "#4. 훈련셋으로 SVM 훈련\n",
        "from sklearn.svm import SVC\n",
        "\n",
        "svm_model = SVC(kernel='rbf', C=8, gamma=0.1)\n",
        "\n",
        "svm_model.fit(X_train_std, y_train) # SVM 분류 모델 훈련\n",
        "#SVC라고 되어 있는데, 분류(classification)용 SVM을 SVC라고 부르기도 합니다.\n",
        "\n",
        "#5. 테스트셋을 가지고 성능 확인\n",
        "y_pred = svm_model.predict(X_test_std) # 테스트\n",
        "\n",
        "print(\"예측된 라벨:\", y_pred)\n",
        "print(\"ground-truth 라벨:\", y_test)\n",
        "\n",
        "import numpy as np\n",
        "print(\"prediction accuracy: {:.2f}\".format(np.mean(y_pred == y_test)))"
      ]
    }
  ]
}