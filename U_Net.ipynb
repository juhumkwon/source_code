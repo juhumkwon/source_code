{
  "nbformat": 4,
  "nbformat_minor": 0,
  "metadata": {
    "colab": {
      "provenance": [],
      "authorship_tag": "ABX9TyPeGyAF2OI9ncA9QXU5R8a0",
      "include_colab_link": true
    },
    "kernelspec": {
      "name": "python3",
      "display_name": "Python 3"
    },
    "language_info": {
      "name": "python"
    }
  },
  "cells": [
    {
      "cell_type": "markdown",
      "metadata": {
        "id": "view-in-github",
        "colab_type": "text"
      },
      "source": [
        "<a href=\"https://colab.research.google.com/github/juhumkwon/source_code/blob/main/U_Net.ipynb\" target=\"_parent\"><img src=\"https://colab.research.google.com/assets/colab-badge.svg\" alt=\"Open In Colab\"/></a>"
      ]
    },
    {
      "cell_type": "code",
      "execution_count": null,
      "metadata": {
        "colab": {
          "base_uri": "https://localhost:8080/"
        },
        "id": "-BpCEZwqOf3z",
        "outputId": "5584433d-c308-4187-e023-9f633b10618a"
      },
      "outputs": [
        {
          "output_type": "stream",
          "name": "stdout",
          "text": [
            "Downloading data from https://www.cs.toronto.edu/~kriz/cifar-10-python.tar.gz\n",
            "\u001b[1m170498071/170498071\u001b[0m \u001b[32m━━━━━━━━━━━━━━━━━━━━\u001b[0m\u001b[37m\u001b[0m \u001b[1m2s\u001b[0m 0us/step\n"
          ]
        }
      ],
      "source": [
        "import tensorflow as tf\n",
        "from tensorflow.keras import layers, models\n",
        "import numpy as np\n",
        "import cv2\n",
        "import matplotlib.pyplot as plt\n",
        "from tensorflow.keras.datasets import cifar10\n",
        "\n",
        "# U-Net 모델 정의\n",
        "def unet_model(input_shape=(256, 256, 3), num_classes=10):\n",
        "    inputs = layers.Input(input_shape)\n",
        "\n",
        "    # 인코더\n",
        "    c1 = layers.Conv2D(64, (3, 3), activation='relu', padding='same')(inputs)\n",
        "    c1 = layers.Conv2D(64, (3, 3), activation='relu', padding='same')(c1)\n",
        "    p1 = layers.MaxPooling2D((2, 2))(c1)\n",
        "\n",
        "    c2 = layers.Conv2D(128, (3, 3), activation='relu', padding='same')(p1)\n",
        "    c2 = layers.Conv2D(128, (3, 3), activation='relu', padding='same')(c2)\n",
        "    p2 = layers.MaxPooling2D((2, 2))(c2)\n",
        "\n",
        "    c3 = layers.Conv2D(256, (3, 3), activation='relu', padding='same')(p2)\n",
        "    c3 = layers.Conv2D(256, (3, 3), activation='relu', padding='same')(c3)\n",
        "    p3 = layers.MaxPooling2D((2, 2))(c3)\n",
        "\n",
        "    c4 = layers.Conv2D(512, (3, 3), activation='relu', padding='same')(p3)\n",
        "    c4 = layers.Conv2D(512, (3, 3), activation='relu', padding='same')(c4)\n",
        "    p4 = layers.MaxPooling2D((2, 2))(c4)\n",
        "\n",
        "    # Bottleneck\n",
        "    c5 = layers.Conv2D(1024, (3, 3), activation='relu', padding='same')(p4)\n",
        "    c5 = layers.Conv2D(1024, (3, 3), activation='relu', padding='same')(c5)\n",
        "\n",
        "    # 디코더\n",
        "    u6 = layers.Conv2DTranspose(512, (3, 3), strides=(2, 2), padding='same')(c5)\n",
        "    u6 = layers.concatenate([u6, c4], axis=3)\n",
        "    c6 = layers.Conv2D(512, (3, 3), activation='relu', padding='same')(u6)\n",
        "    c6 = layers.Conv2D(512, (3, 3), activation='relu', padding='same')(c6)\n",
        "\n",
        "    u7 = layers.Conv2DTranspose(256, (3, 3), strides=(2, 2), padding='same')(c6)\n",
        "    u7 = layers.concatenate([u7, c3], axis=3)\n",
        "    c7 = layers.Conv2D(256, (3, 3), activation='relu', padding='same')(u7)\n",
        "    c7 = layers.Conv2D(256, (3, 3), activation='relu', padding='same')(c7)\n",
        "\n",
        "    u8 = layers.Conv2DTranspose(128, (3, 3), strides=(2, 2), padding='same')(c7)\n",
        "    u8 = layers.concatenate([u8, c2], axis=3)\n",
        "    c8 = layers.Conv2D(128, (3, 3), activation='relu', padding='same')(u8)\n",
        "    c8 = layers.Conv2D(128, (3, 3), activation='relu', padding='same')(c8)\n",
        "\n",
        "    u9 = layers.Conv2DTranspose(64, (3, 3), strides=(2, 2), padding='same')(c8)\n",
        "    u9 = layers.concatenate([u9, c1], axis=3)\n",
        "    c9 = layers.Conv2D(64, (3, 3), activation='relu', padding='same')(u9)\n",
        "    c9 = layers.Conv2D(64, (3, 3), activation='relu', padding='same')(c9)\n",
        "\n",
        "    # 출력 레이어\n",
        "    outputs = layers.Conv2D(num_classes, (1, 1), activation='softmax')(c9)\n",
        "\n",
        "    model = models.Model(inputs, outputs)\n",
        "    return model\n",
        "\n",
        "# CIFAR-10 데이터셋 로드\n",
        "(x_train, y_train), (x_test, y_test) = cifar10.load_data()\n",
        "\n",
        "# CIFAR-10 이미지는 (32, 32) 크기이므로, (256, 256)으로 크기 조정\n",
        "x_train_resized = np.array([cv2.resize(img, (256, 256)) for img in x_train])\n",
        "x_test_resized = np.array([cv2.resize(img, (256, 256)) for img in x_test])\n",
        "\n",
        "# 이미지 정규화\n",
        "x_train_resized = x_train_resized / 255.0\n",
        "x_test_resized = x_test_resized / 255.0\n",
        "\n",
        "# 라벨을 원-핫 인코딩\n",
        "y_train_one_hot = tf.keras.utils.to_categorical(y_train, 10)\n",
        "y_test_one_hot = tf.keras.utils.to_categorical(y_test, 10)\n",
        "\n",
        "# 모델 생성\n",
        "model = unet_model(input_shape=(256, 256, 3), num_classes=10)\n",
        "model.summary()\n",
        "\n",
        "# 모델 컴파일\n",
        "model.compile(optimizer='adam', loss='categorical_crossentropy', metrics=['accuracy'])\n",
        "\n",
        "# 모델 학습\n",
        "model.fit(x_train_resized, y_train_one_hot, batch_size=32, epochs=10, validation_split=0.2)\n",
        "\n",
        "# 모델 추론\n",
        "predictions = model.predict(x_test_resized)\n",
        "\n",
        "# 첫 번째 이미지에 대한 예측\n",
        "predicted_mask = np.argmax(predictions[0], axis=-1)\n",
        "\n",
        "# 시각화\n",
        "plt.figure(figsize=(10, 5))\n",
        "plt.subplot(1, 3, 1)\n",
        "plt.imshow(x_test_resized[0])\n",
        "plt.title(\"Original Image\")\n",
        "plt.subplot(1, 3, 2)\n",
        "plt.imshow(np.argmax(y_test_one_hot[0], axis=-1))\n",
        "plt.title(\"Ground Truth\")\n",
        "plt.subplot(1, 3, 3)\n",
        "plt.imshow(predicted_mask)\n",
        "plt.title(\"Predicted Mask\")\n",
        "plt.show()\n"
      ]
    }
  ]
}