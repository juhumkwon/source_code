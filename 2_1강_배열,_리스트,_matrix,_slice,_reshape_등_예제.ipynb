{
  "nbformat": 4,
  "nbformat_minor": 0,
  "metadata": {
    "colab": {
      "provenance": [],
      "authorship_tag": "ABX9TyPRASo2ySnVN1ZSW5+yMMp0",
      "include_colab_link": true
    },
    "kernelspec": {
      "name": "python3",
      "display_name": "Python 3"
    },
    "language_info": {
      "name": "python"
    }
  },
  "cells": [
    {
      "cell_type": "markdown",
      "metadata": {
        "id": "view-in-github",
        "colab_type": "text"
      },
      "source": [
        "<a href=\"https://colab.research.google.com/github/juhumkwon/source_code/blob/main/2_1%EA%B0%95_%EB%B0%B0%EC%97%B4%2C_%EB%A6%AC%EC%8A%A4%ED%8A%B8%2C_matrix%2C_slice%2C_reshape_%EB%93%B1_%EC%98%88%EC%A0%9C.ipynb\" target=\"_parent\"><img src=\"https://colab.research.google.com/assets/colab-badge.svg\" alt=\"Open In Colab\"/></a>"
      ]
    },
    {
      "cell_type": "code",
      "execution_count": null,
      "metadata": {
        "colab": {
          "base_uri": "https://localhost:8080/"
        },
        "id": "1fxVlnILE26j",
        "outputId": "c445703b-9fcb-48cc-8dd8-206bf7035db6"
      },
      "outputs": [
        {
          "output_type": "stream",
          "name": "stdout",
          "text": [
            "[1, 'hello', 3.14, True, [1, 2, 3]]\n"
          ]
        }
      ],
      "source": [
        "#리스트 (List) 사용 예\n",
        "#리스트는 다양한 데이터 타입을 하나의 컬렉션에 저장할 수 있습니다.\n",
        "\n",
        "my_list = [1, \"hello\", 3.14, True, [1, 2, 3]]\n",
        "print(my_list)\n",
        "# 출력: [1, 'hello', 3.14, True, [1, 2, 3]]"
      ]
    },
    {
      "cell_type": "code",
      "source": [
        "#요소 추가 및 삭제\n",
        "my_list = [1, 2, 3]\n",
        "my_list.append(4)  # 요소 추가\n",
        "print(my_list)  # 출력: [1, 2, 3, 4]\n",
        "\n",
        "my_list.remove(2)  # 요소 삭제\n",
        "print(my_list)  # 출력: [1, 3, 4]"
      ],
      "metadata": {
        "colab": {
          "base_uri": "https://localhost:8080/"
        },
        "id": "yWexmq82F4lk",
        "outputId": "96362da9-c035-4714-ef58-a297df5fe038"
      },
      "execution_count": null,
      "outputs": [
        {
          "output_type": "stream",
          "name": "stdout",
          "text": [
            "[1, 2, 3, 4]\n",
            "[1, 3, 4]\n"
          ]
        }
      ]
    },
    {
      "cell_type": "code",
      "source": [
        "#슬라이싱 (Slicing)\n",
        "my_list = [1, 2, 3, 4, 5, 6]\n",
        "sliced_list = my_list[1:4]  # 인덱스 1부터 3까지\n",
        "print(sliced_list)  # 출력: [2, 3, 4]"
      ],
      "metadata": {
        "colab": {
          "base_uri": "https://localhost:8080/"
        },
        "id": "UkpXLaB-GDZz",
        "outputId": "47bba67e-75db-46ae-dd1a-c92eb86d3c0f"
      },
      "execution_count": null,
      "outputs": [
        {
          "output_type": "stream",
          "name": "stdout",
          "text": [
            "[2, 3, 4]\n"
          ]
        }
      ]
    },
    {
      "cell_type": "code",
      "source": [
        "#중첩 리스트\n",
        "\n",
        "matrix = [\n",
        "    [1, 2, 3],\n",
        "    [4, 5, 6],\n",
        "    [7, 8, 9]\n",
        "]\n",
        "print(matrix[1][2])  # 출력: 6 (2번째 행, 3번째 열)\n"
      ],
      "metadata": {
        "colab": {
          "base_uri": "https://localhost:8080/"
        },
        "id": "MAIwdxEkGNZg",
        "outputId": "df2b3aec-6d07-45e0-e43d-ac71ef9d69d1"
      },
      "execution_count": null,
      "outputs": [
        {
          "output_type": "stream",
          "name": "stdout",
          "text": [
            "6\n"
          ]
        }
      ]
    },
    {
      "cell_type": "code",
      "source": [
        "#배열 (Array) 사용 예\n",
        "#배열은 모든 요소가 동일한 데이터 타입을 가져야 하므로, 효율적으로 메모리를 사용할 수 있습니다.\n",
        "\n",
        "import array\n",
        "import numpy as np # Import the NumPy library\n",
        "\n",
        "my_array = array.array('i', [1, 2, 3, 4, 5])\n",
        "print(my_array)\n",
        "# 출력: array('i', [1, 2, 3, 4, 5])\n",
        "\n",
        "# Convert the array.array object to a NumPy array\n",
        "numpy_array = np.array(my_array)\n",
        "\n",
        "print(numpy_array.shape) # Now you can access the shape attribute"
      ],
      "metadata": {
        "colab": {
          "base_uri": "https://localhost:8080/"
        },
        "id": "s65VqAOoGW4k",
        "outputId": "1f287456-f983-47bd-8158-c4da22872969"
      },
      "execution_count": null,
      "outputs": [
        {
          "output_type": "stream",
          "name": "stdout",
          "text": [
            "array('i', [1, 2, 3, 4, 5])\n",
            "(5,)\n"
          ]
        }
      ]
    },
    {
      "cell_type": "code",
      "source": [
        "#과학 계산에서의 NumPy 배열 사용\n",
        "#NumPy 배열은 대규모 데이터 계산에서 매우 유용합니다. 다차원 배열을 쉽게 다룰 수 있습니다.\n",
        "\n",
        "import numpy as np\n",
        "\n",
        "# 2차원 배열 (행렬) 생성\n",
        "matrix = np.array([\n",
        "    [1, 2, 3],\n",
        "    [4, 5, 6],\n",
        "    [7, 8, 9]\n",
        "])\n",
        "print(matrix)"
      ],
      "metadata": {
        "colab": {
          "base_uri": "https://localhost:8080/"
        },
        "id": "tLd6KfJfHkJn",
        "outputId": "7da55c80-713b-4eee-b3e3-3f1aac1db51c"
      },
      "execution_count": null,
      "outputs": [
        {
          "output_type": "stream",
          "name": "stdout",
          "text": [
            "[[1 2 3]\n",
            " [4 5 6]\n",
            " [7 8 9]]\n"
          ]
        }
      ]
    },
    {
      "cell_type": "code",
      "source": [
        "#요소별 연산\n",
        "\n",
        "import numpy as np\n",
        "\n",
        "a = np.array([1, 2, 3])\n",
        "b = np.array([4, 5, 6])\n",
        "\n",
        "d = [7, 8, 9]\n",
        "e = [10,11,12]\n",
        "\n",
        "# 요소별 덧셈\n",
        "c = a + b\n",
        "print(c)\n",
        "\n",
        "f = d + e\n",
        "print(f)"
      ],
      "metadata": {
        "colab": {
          "base_uri": "https://localhost:8080/"
        },
        "id": "zMCuOzxZFjKx",
        "outputId": "547be5d2-4a78-45f5-8ef7-dfc20a66d42e"
      },
      "execution_count": null,
      "outputs": [
        {
          "output_type": "stream",
          "name": "stdout",
          "text": [
            "[5 7 9]\n",
            "[7, 8, 9, 10, 11, 12]\n"
          ]
        }
      ]
    },
    {
      "cell_type": "code",
      "source": [
        "\"\"\"\n",
        "슬라이싱(slicing)은 파이썬에서 리스트, 튜플, 문자열,\n",
        "배열 등의 데이터 구조에서 특정 부분을 선택하여 가져오는 방법입니다.\n",
        "슬라이싱은 기본적으로 start:stop:step 형식으로 사용됩니다.\n",
        "\n",
        "여기서:\n",
        "start: 슬라이스의 시작 인덱스 (포함됨).\n",
        "stop: 슬라이스의 종료 인덱스 (포함되지 않음).\n",
        "step: 슬라이스의 간격 (기본값은 1).\n",
        "\"\"\"\n",
        "my_list = [10, 20, 30, 40, 50]\n",
        "\n",
        "# 인덱스 1부터 3까지 (3은 포함되지 않음)\n",
        "sliced_list = my_list[1:3]\n",
        "print(sliced_list)  # 출력: [20, 30]\n"
      ],
      "metadata": {
        "colab": {
          "base_uri": "https://localhost:8080/"
        },
        "id": "6nc9imoRQ5Le",
        "outputId": "37d71bb4-2f78-459e-b5d5-808d1b09d6b0"
      },
      "execution_count": null,
      "outputs": [
        {
          "output_type": "stream",
          "name": "stdout",
          "text": [
            "[20, 30]\n"
          ]
        }
      ]
    },
    {
      "cell_type": "code",
      "source": [
        "#시작 인덱스와 종료 인덱스 생략\n",
        "\n",
        "# 시작 인덱스를 생략 (0부터 시작)\n",
        "sliced_list = my_list[:3]\n",
        "print(sliced_list)  # 출력: [10, 20, 30]\n",
        "\n",
        "# 종료 인덱스를 생략 (끝까지)\n",
        "sliced_list = my_list[2:]\n",
        "print(sliced_list)  # 출력: [30, 40, 50]\n",
        "\n",
        "# 시작과 종료 인덱스를 모두 생략 (전체 리스트)\n",
        "sliced_list = my_list[:]\n",
        "print(sliced_list)  # 출력: [10, 20, 30, 40, 50]\n"
      ],
      "metadata": {
        "colab": {
          "base_uri": "https://localhost:8080/"
        },
        "id": "UDqEPaGPRMkb",
        "outputId": "58accba9-30fb-4e34-a75f-56fa9b76fe7a"
      },
      "execution_count": null,
      "outputs": [
        {
          "output_type": "stream",
          "name": "stdout",
          "text": [
            "[10, 20, 30]\n",
            "[30, 40, 50]\n",
            "[10, 20, 30, 40, 50]\n"
          ]
        }
      ]
    },
    {
      "cell_type": "code",
      "source": [
        "#음수 인덱스를 사용한 슬라이싱\n",
        "\n",
        "# 마지막 두 요소 슬라이싱\n",
        "sliced_list = my_list[-2:]\n",
        "print(sliced_list)  # 출력: [40, 50]\n",
        "\n",
        "# 처음부터 마지막 두 요소를 제외한 나머지 슬라이싱\n",
        "sliced_list = my_list[:-2]\n",
        "print(sliced_list)  # 출력: [10, 20, 30]\n"
      ],
      "metadata": {
        "colab": {
          "base_uri": "https://localhost:8080/"
        },
        "id": "finEXqK2RdVg",
        "outputId": "3a0e81b7-e4c4-4bc3-b75b-77071fd2805e"
      },
      "execution_count": null,
      "outputs": [
        {
          "output_type": "stream",
          "name": "stdout",
          "text": [
            "[40, 50]\n",
            "[10, 20, 30]\n"
          ]
        }
      ]
    },
    {
      "cell_type": "code",
      "source": [
        "#스텝(step) 사용\n",
        "\n",
        "# 리스트의 모든 요소를 2씩 건너뛰며 슬라이싱\n",
        "sliced_list = my_list[::2]\n",
        "print(sliced_list)  # 출력: [10, 30, 50]\n",
        "\n",
        "# 리스트를 역순으로 슬라이싱\n",
        "sliced_list = my_list[::-1]\n",
        "print(sliced_list)  # 출력: [50, 40, 30, 20, 10]\n",
        "\n"
      ],
      "metadata": {
        "colab": {
          "base_uri": "https://localhost:8080/"
        },
        "id": "YSj93014Rsew",
        "outputId": "b3b3d5f4-232e-4f9c-b8d4-a30ef28ebc2f"
      },
      "execution_count": null,
      "outputs": [
        {
          "output_type": "stream",
          "name": "stdout",
          "text": [
            "[10, 30, 50]\n",
            "[50, 40, 30, 20, 10]\n",
            "Hello\n"
          ]
        }
      ]
    },
    {
      "cell_type": "code",
      "source": [
        "my_string = \"Hello, World!\"\n",
        "\n",
        "# 인덱스 0부터 4까지 슬라이싱\n",
        "sliced_string = my_string[0:5]\n",
        "print(sliced_string)  # 출력: \"Hello\"\n",
        "\n",
        "# 문자열의 모든 문자를 2씩 건너뛰며 슬라이싱\n",
        "sliced_string = my_string[::2]\n",
        "print(sliced_string)  # 출력: \"Hlo ol!\"\n",
        "\n",
        "# 문자열을 역순으로 슬라이싱\n",
        "sliced_string = my_string[::-1]\n",
        "print(sliced_string)  # 출력: \"!dlroW ,olleH\""
      ],
      "metadata": {
        "id": "g5Tu3lLHSHm1",
        "outputId": "e75136bc-cde1-4ab0-d2f3-1db264f2c8be",
        "colab": {
          "base_uri": "https://localhost:8080/"
        }
      },
      "execution_count": null,
      "outputs": [
        {
          "output_type": "stream",
          "name": "stdout",
          "text": [
            "Hello\n",
            "Hlo ol!\n",
            "!dlroW ,olleH\n"
          ]
        }
      ]
    },
    {
      "cell_type": "code",
      "source": [
        "#다차원 배열의 슬라이싱\n",
        "#NumPy 배열(NumPy Array) 슬라이싱\n",
        "\n",
        "import numpy as np\n",
        "\n",
        "# 2차원 배열 생성\n",
        "array = np.array([\n",
        "    [1, 2, 3],\n",
        "    [4, 5, 6],\n",
        "    [7, 8, 9]\n",
        "])\n",
        "\n",
        "# 첫 두 행과 첫 두 열을 슬라이싱\n",
        "sliced_array = array[:2, :2]\n",
        "print(sliced_array)\n",
        "# 출력:\n",
        "# [[1 2]\n",
        "#  [4 5]]\n",
        "\n",
        "# 첫 번째 행 전체를 슬라이싱\n",
        "sliced_array = array[0, :]\n",
        "print(sliced_array)  # 출력: [1 2 3]\n",
        "\n",
        "# 첫 번째 열 전체를 슬라이싱\n",
        "sliced_array = array[:, 0]\n",
        "print(sliced_array)  # 출력: [1 4 7]\n",
        "\n",
        "# 배열을 역순으로 슬라이싱\n",
        "sliced_array = array[::-1, ::-1]\n",
        "print(sliced_array)\n",
        "# 출력:\n",
        "# [[9 8 7]\n",
        "#  [6 5 4]\n",
        "#  [3 2 1]]"
      ],
      "metadata": {
        "colab": {
          "base_uri": "https://localhost:8080/"
        },
        "id": "okz68Ab6H0bw",
        "outputId": "84f2ec3c-b857-4f7f-cad1-4eae22e19c8b"
      },
      "execution_count": 51,
      "outputs": [
        {
          "output_type": "stream",
          "name": "stdout",
          "text": [
            "[[1 2]\n",
            " [4 5]]\n",
            "[1 2 3]\n",
            "[1 4 7]\n",
            "[[9 8 7]\n",
            " [6 5 4]\n",
            " [3 2 1]]\n"
          ]
        }
      ]
    },
    {
      "cell_type": "code",
      "source": [
        "# 3차원 배열 생성\n",
        "tensor = np.array([\n",
        "    [[1, 2], [3, 4]],\n",
        "    [[5, 6], [7, 8]],\n",
        "    [[9, 10], [11, 12]]\n",
        "])\n",
        "\n",
        "# 첫 번째 차원의 첫 번째 요소를 슬라이싱\n",
        "sliced_tensor = tensor[0]\n",
        "print(sliced_tensor)\n",
        "# 출력:\n",
        "# [[1 2]\n",
        "#  [3 4]]\n",
        "\n",
        "# 모든 차원에서 첫 번째 요소만을 슬라이싱\n",
        "sliced_tensor = tensor[:, 0, 0]\n",
        "print(sliced_tensor)  # 출력: [1 5 9]\n",
        "\n",
        "# 모든 차원에서 역순으로 슬라이싱\n",
        "sliced_tensor = tensor[::-1, ::-1, ::-1]\n",
        "print(sliced_tensor)\n",
        "# 출력:\n",
        "# [[[12 11]\n",
        "#   [10  9]]\n",
        "#\n",
        "#  [[ 8  7]\n",
        "#   [ 6  5]]\n",
        "#\n",
        "#  [[ 4  3]\n",
        "#   [ 2  1]]]"
      ],
      "metadata": {
        "colab": {
          "base_uri": "https://localhost:8080/"
        },
        "id": "Exb_MmbvTvPG",
        "outputId": "dc64a767-4939-41fc-d8f3-7c86392d885b"
      },
      "execution_count": 53,
      "outputs": [
        {
          "output_type": "stream",
          "name": "stdout",
          "text": [
            "[[1 2]\n",
            " [3 4]]\n",
            "[1 5 9]\n",
            "[[[12 11]\n",
            "  [10  9]]\n",
            "\n",
            " [[ 8  7]\n",
            "  [ 6  5]]\n",
            "\n",
            " [[ 4  3]\n",
            "  [ 2  1]]]\n"
          ]
        }
      ]
    },
    {
      "cell_type": "code",
      "source": [
        "#배열의 크기 및 형태 변경\n",
        "#NumPy는 배열의 형태를 쉽게 변경할 수 있는 기능을 제공합니다.\n",
        "\n",
        "import numpy as np\n",
        "\n",
        "arr = np.array([1, 2, 3, 4, 5, 6])\n",
        "reshaped_arr = arr.reshape(2, 3)  # 2x3 배열로 재구성\n",
        "print(reshaped_arr)\n",
        "\n",
        "print(\"\\n\")\n",
        "print(arr.shape)\n",
        "print(reshaped_arr.shape)\n"
      ],
      "metadata": {
        "colab": {
          "base_uri": "https://localhost:8080/"
        },
        "id": "XJNYJqIkIpLZ",
        "outputId": "3f574153-9cf1-4582-f346-93d1f77007c6"
      },
      "execution_count": null,
      "outputs": [
        {
          "output_type": "stream",
          "name": "stdout",
          "text": [
            "[[1 2 3]\n",
            " [4 5 6]]\n",
            "\n",
            "\n",
            "(6,)\n",
            "(2, 3)\n"
          ]
        }
      ]
    },
    {
      "cell_type": "code",
      "source": [
        "#NumPy 배열에서의 shape\n",
        "\n",
        "import numpy as np\n",
        "\n",
        "# 2x3 배열 생성\n",
        "matrix = np.array([\n",
        "    [1, 2, 3],\n",
        "    [4, 5, 6]\n",
        "])\n",
        "\n",
        "# 배열의 shape 확인\n",
        "print(matrix.shape)\n",
        "# 출력: (2, 3)"
      ],
      "metadata": {
        "colab": {
          "base_uri": "https://localhost:8080/"
        },
        "id": "A7UTd1ynJgy0",
        "outputId": "71215ab2-1f9f-44a9-c4b8-2388ed1dc887"
      },
      "execution_count": null,
      "outputs": [
        {
          "output_type": "stream",
          "name": "stdout",
          "text": [
            "(2, 3)\n"
          ]
        }
      ]
    },
    {
      "cell_type": "code",
      "source": [
        "#다차원 배열에서의 shape\n",
        "\n",
        "import numpy as np\n",
        "\n",
        "# 2x3x4 배열 생성\n",
        "tensor = np.array([\n",
        "    [[1, 2, 3, 4], [5, 6, 7, 8], [9, 10, 11, 12]],\n",
        "    [[13, 14, 15, 16], [17, 18, 19, 20], [21, 22, 23, 24]]\n",
        "])\n",
        "\n",
        "# 배열의 shape 확인\n",
        "print(tensor.shape)\n",
        "# 출력: (2, 3, 4)"
      ],
      "metadata": {
        "colab": {
          "base_uri": "https://localhost:8080/"
        },
        "id": "Eb94fnUwJnBV",
        "outputId": "a74cbdc0-8a89-4b05-9e05-b7ed1f8152b0"
      },
      "execution_count": null,
      "outputs": [
        {
          "output_type": "stream",
          "name": "stdout",
          "text": [
            "(2, 3, 4)\n"
          ]
        }
      ]
    },
    {
      "cell_type": "code",
      "source": [
        "\"\"\"\n",
        "axis는 NumPy에서 다차원 배열의 연산 방향을 지정하는 데 사용되는 개념입니다.\n",
        "간단히 말해, 배열에서 어떤 차원(축)을 따라 연산을 수행할지를 지정하는 것입니다.\n",
        "\n",
        "기본 개념\n",
        "축 0 (axis=0): 첫 번째 축으로, 배열의 행 방향을 나타냅니다. 이 축을 따라 연산을 수행하면,\n",
        "               열을 기준으로 계산이 이루어집니다.\n",
        "축 1 (axis=1): 두 번째 축으로, 배열의 열 방향을 나타냅니다. 이 축을 따라 연산을 수행하면,\n",
        "               행을 기준으로 계산이 이루어집니다.\n",
        "\"\"\"\n",
        "\n",
        "import numpy as np\n",
        "\n",
        "matrix = np.array([\n",
        "    [1, 2, 3],\n",
        "    [4, 5, 6],\n",
        "    [7, 8, 9]\n",
        "])\n",
        "\n",
        "\"\"\"\n",
        "axis=0은 행을 따라 연산을 수행하는 것을 의미합니다.\n",
        "예를 들어, sum 함수에서 axis=0으로 지정하면 각 열의 합이 계산됩니다.\n",
        "\"\"\"\n",
        "sum_axis_0 = matrix.sum(axis=0)\n",
        "print(sum_axis_0)\n",
        "# 출력: [12 15 18]\n",
        "\n",
        "\"\"\"\n",
        "axis=1은 열을 따라 연산을 수행하는 것을 의미합니다.\n",
        "예를 들어, sum 함수에서 axis=1으로 지정하면 각 행의 합이 계산됩니다.\n",
        "\"\"\"\n",
        "sum_axis_1 = matrix.sum(axis=1)\n",
        "print(sum_axis_1)\n",
        "# 출력: [ 6 15 24]"
      ],
      "metadata": {
        "colab": {
          "base_uri": "https://localhost:8080/"
        },
        "id": "f_mbSGbsJ5CL",
        "outputId": "c71cb930-ec14-4c19-a92f-d7e2bc658c6d"
      },
      "execution_count": null,
      "outputs": [
        {
          "output_type": "stream",
          "name": "stdout",
          "text": [
            "[12 15 18]\n",
            "[ 6 15 24]\n"
          ]
        }
      ]
    },
    {
      "cell_type": "code",
      "source": [
        "#예제 2: 3차원 배열에서의 axis\n",
        "#3차원 배열의 경우 각 차원이 axis=0, axis=1, axis=2로 지정될 수 있습니다.\n",
        "\n",
        "tensor = np.array([\n",
        "    [[1, 2, 3], [4, 5, 6]],\n",
        "    [[7, 8, 9], [10, 11, 12]]\n",
        "])\n",
        "\n",
        "print(tensor.shape)\n",
        "\n",
        "\"\"\"\n",
        "이 배열은 2x2x3 크기를 가지며, 각 차원에 대해 axis를 지정할 수 있습니다.\n",
        "axis=0: 첫 번째 차원(가장 바깥 차원)을 따라 연산.\n",
        "axis=1: 두 번째 차원을 따라 연산.\n",
        "axis=2: 세 번째 차원을 따라 연산.\n",
        "\"\"\"\n",
        "sum_axis_0 = tensor.sum(axis=0)\n",
        "print(sum_axis_0)\n",
        "# 출력:\n",
        "# [[ 8 10 12]\n",
        "#  [14 16 18]]\n",
        "print(\"\\n\")\n",
        "\n",
        "sum_axis_1 = tensor.sum(axis=1)\n",
        "print(sum_axis_1)\n",
        "# 출력:\n",
        "# [[ 5  7  9]\n",
        "#  [17 19 21]]\n",
        "print(\"\\n\")\n",
        "\n",
        "sum_axis_2 = tensor.sum(axis=2)\n",
        "print(sum_axis_2)\n",
        "# 출력:\n",
        "# [[ 6 15]\n",
        "#  [24 33]]\n"
      ],
      "metadata": {
        "colab": {
          "base_uri": "https://localhost:8080/"
        },
        "id": "xFGblddZKzxQ",
        "outputId": "1f12fe6a-981b-48b0-9302-9e9fbbfd59ad"
      },
      "execution_count": null,
      "outputs": [
        {
          "output_type": "stream",
          "name": "stdout",
          "text": [
            "(2, 2, 3)\n",
            "[[ 8 10 12]\n",
            " [14 16 18]]\n",
            "\n",
            "\n",
            "[[ 5  7  9]\n",
            " [17 19 21]]\n",
            "\n",
            "\n",
            "[[ 6 15]\n",
            " [24 33]]\n"
          ]
        }
      ]
    },
    {
      "cell_type": "code",
      "source": [],
      "metadata": {
        "id": "wS7_hu1lKh3f"
      },
      "execution_count": null,
      "outputs": []
    }
  ]
}