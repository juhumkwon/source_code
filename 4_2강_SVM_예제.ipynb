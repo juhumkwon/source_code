{
  "nbformat": 4,
  "nbformat_minor": 0,
  "metadata": {
    "colab": {
      "provenance": [],
      "authorship_tag": "ABX9TyOzJCHAHPC5XOUuVi23dMxo",
      "include_colab_link": true
    },
    "kernelspec": {
      "name": "python3",
      "display_name": "Python 3"
    },
    "language_info": {
      "name": "python"
    }
  },
  "cells": [
    {
      "cell_type": "markdown",
      "metadata": {
        "id": "view-in-github",
        "colab_type": "text"
      },
      "source": [
        "<a href=\"https://colab.research.google.com/github/juhumkwon/source_code/blob/main/4_2%EA%B0%95_SVM_%EC%98%88%EC%A0%9C.ipynb\" target=\"_parent\"><img src=\"https://colab.research.google.com/assets/colab-badge.svg\" alt=\"Open In Colab\"/></a>"
      ]
    },
    {
      "cell_type": "code",
      "execution_count": 1,
      "metadata": {
        "colab": {
          "base_uri": "https://localhost:8080/"
        },
        "id": "cYHbEFb2jQWj",
        "outputId": "be8b7f15-c434-4f2c-b14f-3604c712042e"
      },
      "outputs": [
        {
          "output_type": "stream",
          "name": "stdout",
          "text": [
            "정확도 : 0.989\n"
          ]
        }
      ],
      "source": [
        "#출처 : https://github.com/gilbutITbook/080263/tree/master/chap3/data/titanic\n",
        "from sklearn import svm\n",
        "from sklearn import metrics\n",
        "from sklearn import datasets\n",
        "from sklearn import model_selection\n",
        "\n",
        "import tensorflow as tf\n",
        "import os\n",
        "\"\"\"\n",
        "TF_CPP_MIN_LOG_LEVEL이라는 환경 변수를 사용해서 로깅을 제어한다.\n",
        "\n",
        "0 : 기본값으로, 모든 로그가 표시됨\n",
        "1 : INFO 로그를 필터링\n",
        "2 : WARNING 로그를 필터링\n",
        "3 : ERROR 로그를 추가로 필터링\n",
        "\"\"\"\n",
        "os.environ['TF_CPP_MIN_LOG_LEVEL'] = '3'\n",
        "\n",
        "#iris 데이터를 준비하고 훈련과 검증 데이터셋으로 분리\n",
        "# 사이킷런에서 제공하는 iris 데이터 호출\n",
        "iris = datasets.load_iris()\n",
        "\n",
        "\n",
        "# 데이터셋 분리\n",
        "X_train, X_test, y_train, y_test = model_selection.train_test_split(iris.data, iris.target, test_size = 0.6, random_state = 42)\n",
        "\n",
        "#SVM 모델에 대한 정확도\n",
        "# SVM 분류기 제작\n",
        "svm = svm.SVC(kernel = 'linear', C = 1.0, gamma = 0.5)\n",
        "\n",
        "# 훈련 데이터를 사용하여 SVM 분류기를 훈련시킴\n",
        "svm.fit(X_train, y_train)\n",
        "\n",
        "# 훈련된 모델을 사용하여 검증 데이터에서 예측\n",
        "predictions = svm.predict(X_test) # Changed x_test to X_test\n",
        "\n",
        "score = metrics.accuracy_score(y_test, predictions)\n",
        "print('정확도 : {0:.3f}'.format(score)) # Changed {0.f} to {0:.3f}\n"
      ]
    }
  ]
}