{
  "nbformat": 4,
  "nbformat_minor": 0,
  "metadata": {
    "colab": {
      "provenance": [],
      "authorship_tag": "ABX9TyP6iE7pJh0mGr4RMLTsszoc",
      "include_colab_link": true
    },
    "kernelspec": {
      "name": "python3",
      "display_name": "Python 3"
    },
    "language_info": {
      "name": "python"
    }
  },
  "cells": [
    {
      "cell_type": "markdown",
      "metadata": {
        "id": "view-in-github",
        "colab_type": "text"
      },
      "source": [
        "<a href=\"https://colab.research.google.com/github/juhumkwon/source_code/blob/main/4_2%EA%B0%95_SVM_%EC%98%88%EC%A0%9C.ipynb\" target=\"_parent\"><img src=\"https://colab.research.google.com/assets/colab-badge.svg\" alt=\"Open In Colab\"/></a>"
      ]
    },
    {
      "cell_type": "code",
      "execution_count": 3,
      "metadata": {
        "colab": {
          "base_uri": "https://localhost:8080/"
        },
        "id": "cYHbEFb2jQWj",
        "outputId": "b3452ae0-352f-4e48-8cb8-d92b50856a1b"
      },
      "outputs": [
        {
          "output_type": "stream",
          "name": "stdout",
          "text": [
            "정확도 : 0.989\n"
          ]
        }
      ],
      "source": [
        "#출처 : https://github.com/gilbutITbook/080263/tree/master/chap3/data/titanic\n",
        "from sklearn import svm\n",
        "from sklearn import metrics\n",
        "from sklearn import datasets\n",
        "from sklearn import model_selection\n",
        "\n",
        "import tensorflow as tf\n",
        "import os\n",
        "\"\"\"\n",
        "TF_CPP_MIN_LOG_LEVEL이라는 환경 변수를 사용해서 로깅을 제어한다.\n",
        "\n",
        "0 : 기본값으로, 모든 로그가 표시됨\n",
        "1 : INFO 로그를 필터링\n",
        "2 : WARNING 로그를 필터링\n",
        "3 : ERROR 로그를 추가로 필터링\n",
        "\"\"\"\n",
        "os.environ['TF_CPP_MIN_LOG_LEVEL'] = '3'\n",
        "\n",
        "#iris 데이터를 준비하고 훈련과 검증 데이터셋으로 분리\n",
        "# 사이킷런에서 제공하는 iris 데이터 호출\n",
        "iris = datasets.load_iris()\n",
        "\n",
        "# 데이터셋 분리\n",
        "X_train, X_test, y_train, y_test = model_selection.train_test_split(iris.data, iris.target, test_size = 0.6, random_state = 42)\n",
        "\n",
        "#SVM 모델에 대한 정확도\n",
        "# SVM 분류기 제작\n",
        "svm = svm.SVC(kernel = 'linear', C = 1.0, gamma = 0.5)\n",
        "\n",
        "# 훈련 데이터를 사용하여 SVM 분류기를 훈련시킴\n",
        "svm.fit(X_train, y_train)\n",
        "\n",
        "# 훈련된 모델을 사용하여 검증 데이터에서 예측\n",
        "predictions = svm.predict(X_test)\n",
        "\n",
        "score = metrics.accuracy_score(y_test, predictions)\n",
        "\"\"\"\n",
        "이 코드는 score 변수에 저장된 값을 소수점 세 자리까지 표시하여 출력하는 방식입니다.\n",
        "여기서 score는 정확도를 나타내는 값일 가능성이 큽니다.\n",
        "예를 들어, score가 0.923456이라면, 출력 결과는 0.923\n",
        "{0:.3f}에서:\n",
        "  0은 첫 번째 인자(score)를 가리킵니다.\n",
        "  :.3f는 소수점 이하 세 자리까지의 부동 소수점 형식으로 출력하라는 의미입니다.\n",
        "\"\"\"\n",
        "print('정확도 : {0:.3f}'.format(score))\n"
      ]
    }
  ]
}