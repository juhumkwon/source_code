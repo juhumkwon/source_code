{
  "nbformat": 4,
  "nbformat_minor": 0,
  "metadata": {
    "colab": {
      "provenance": [],
      "authorship_tag": "ABX9TyPoJ0GTZg7omaBN+a6L3Qdu",
      "include_colab_link": true
    },
    "kernelspec": {
      "name": "python3",
      "display_name": "Python 3"
    },
    "language_info": {
      "name": "python"
    }
  },
  "cells": [
    {
      "cell_type": "markdown",
      "metadata": {
        "id": "view-in-github",
        "colab_type": "text"
      },
      "source": [
        "<a href=\"https://colab.research.google.com/github/juhumkwon/source_code/blob/main/4_2_2%EA%B0%95_SVM_%EC%98%88%EC%A0%9C.ipynb\" target=\"_parent\"><img src=\"https://colab.research.google.com/assets/colab-badge.svg\" alt=\"Open In Colab\"/></a>"
      ]
    },
    {
      "cell_type": "code",
      "execution_count": 3,
      "metadata": {
        "colab": {
          "base_uri": "https://localhost:8080/"
        },
        "id": "cYHbEFb2jQWj",
        "outputId": "c46d3852-bc3c-46a1-8f26-d632734c304b"
      },
      "outputs": [
        {
          "output_type": "stream",
          "name": "stdout",
          "text": [
            "정확도 : 0.989\n"
          ]
        }
      ],
      "source": [
        "#출처 : https://github.com/gilbutITbook/080263/tree/master/chap3/data/titanic\n",
        "from sklearn import svm\n",
        "from sklearn import metrics\n",
        "from sklearn import datasets\n",
        "from sklearn import model_selection\n",
        "\n",
        "import tensorflow as tf\n",
        "import os\n",
        "\"\"\"\n",
        "TF_CPP_MIN_LOG_LEVEL이라는 환경 변수를 사용해서 로깅을 제어한다.\n",
        "\n",
        "0 : 기본값으로, 모든 로그가 표시됨\n",
        "1 : INFO 로그를 필터링\n",
        "2 : WARNING 로그를 필터링\n",
        "3 : ERROR 로그를 추가로 필터링\n",
        "\"\"\"\n",
        "os.environ['TF_CPP_MIN_LOG_LEVEL'] = '3'\n",
        "\n",
        "#iris 데이터를 준비하고 훈련과 검증 데이터셋으로 분리\n",
        "# 사이킷런에서 제공하는 iris 데이터 호출\n",
        "iris = datasets.load_iris()\n",
        "\n",
        "# 데이터셋 분리\n",
        "\"\"\"\n",
        "model_selection은 머신러닝에서 모델을 선택하고 평가하는 과정과 관련된 여러 방법과 기법을 포함하는 개념입니다.\n",
        "주로 Scikit-learn 라이브러리와 같은 머신러닝 프레임워크에서 사용되는 모듈로,\n",
        "모델의 성능을 향상시키기 위한 다양한 도구를 제공합니다. 주요 내용은 다음과 같습니다:\n",
        "1. train_test_split 함수를 사용하여 데이터를 훈련 세트와 테스트 세트로 나누어 모델의 일반화 성능을 평가합니다.\n",
        "2. k-겹 교차 검증 (k-fold cross-validation):\n",
        "데이터를 k개의 폴드로 나누어 각 폴드를 검증 세트로 사용하고 나머지를 훈련 세트로 사용하여 모델의 성능을 평가합니다.\n",
        "cross_val_score 함수를 통해 쉽게 구현할 수 있습니다.\n",
        "3. classification_report 또는 confusion_matrix를 사용하여 평가합니다.\n",
        "정확도, 정밀도, 재현율, F1 점수 등 다양한 지표를 사용하여 모델의 성능을 평가할 수 있습니다.\n",
        "\"\"\"\n",
        "X_train, X_test, y_train, y_test = model_selection.train_test_split(iris.data, iris.target, test_size = 0.6, random_state = 42)\n",
        "\n",
        "#SVM 모델에 대한 정확도\n",
        "# SVM 분류기 제작\n",
        "svm = svm.SVC(kernel = 'linear', C = 1.0, gamma = 0.5)\n",
        "\n",
        "# 훈련 데이터를 사용하여 SVM 분류기를 훈련시킴\n",
        "svm.fit(X_train, y_train)\n",
        "\n",
        "# 훈련된 모델을 사용하여 검증 데이터에서 예측\n",
        "predictions = svm.predict(X_test)\n",
        "\n",
        "score = metrics.accuracy_score(y_test, predictions)\n",
        "\"\"\"\n",
        "이 코드는 score 변수에 저장된 값을 소수점 세 자리까지 표시하여 출력하는 방식입니다.\n",
        "여기서 score는 정확도를 나타내는 값일 가능성이 큽니다.\n",
        "예를 들어, score가 0.923456이라면, 출력 결과는 0.923\n",
        "{0:.3f}에서:\n",
        "  0은 첫 번째 인자(score)를 가리킵니다.\n",
        "  :.3f는 소수점 이하 세 자리까지의 부동 소수점 형식으로 출력하라는 의미입니다.\n",
        "\"\"\"\n",
        "print('정확도 : {0:.3f}'.format(score))\n"
      ]
    },
    {
      "cell_type": "code",
      "source": [],
      "metadata": {
        "id": "wZR8iamhPmwL"
      },
      "execution_count": null,
      "outputs": []
    }
  ]
}