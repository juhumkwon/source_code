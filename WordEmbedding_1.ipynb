{
  "nbformat": 4,
  "nbformat_minor": 0,
  "metadata": {
    "colab": {
      "provenance": [],
      "authorship_tag": "ABX9TyOKBcmJ70m9kJQIbuDBxvWX",
      "include_colab_link": true
    },
    "kernelspec": {
      "name": "python3",
      "display_name": "Python 3"
    },
    "language_info": {
      "name": "python"
    }
  },
  "cells": [
    {
      "cell_type": "markdown",
      "metadata": {
        "id": "view-in-github",
        "colab_type": "text"
      },
      "source": [
        "<a href=\"https://colab.research.google.com/github/juhumkwon/source_code/blob/main/WordEmbedding_1.ipynb\" target=\"_parent\"><img src=\"https://colab.research.google.com/assets/colab-badge.svg\" alt=\"Open In Colab\"/></a>"
      ]
    },
    {
      "cell_type": "code",
      "execution_count": 1,
      "metadata": {
        "colab": {
          "base_uri": "https://localhost:8080/"
        },
        "id": "omUZlp75cnc2",
        "outputId": "abadd802-6eb2-436c-9e0d-160729e18697"
      },
      "outputs": [
        {
          "output_type": "stream",
          "name": "stdout",
          "text": [
            "입력 임베딩 + 포지셔널 인코딩 shape: (2, 10, 64)\n",
            "Self-Attention 출력 shape: (2, 10, 64)\n"
          ]
        }
      ],
      "source": [
        "\n",
        "import tensorflow as tf\n",
        "import numpy as np\n",
        "\n",
        "# 하이퍼파라미터\n",
        "vocab_size = 1000     # 단어 집합 크기\n",
        "max_len = 10          # 문장 최대 길이\n",
        "d_model = 64          # 임베딩 차원\n",
        "batch_size = 2\n",
        "\n",
        "# 예제 입력 (batch_size, seq_len)\n",
        "sample_input = tf.constant([\n",
        "    [1, 5, 23, 42, 0, 0, 0, 0, 0, 0],    # PAD 포함 예제\n",
        "    [7, 2, 15, 19, 31, 44, 58, 0, 0, 0]\n",
        "])\n",
        "\n",
        "# 워드 임베딩\n",
        "embedding_layer = tf.keras.layers.Embedding(input_dim=vocab_size, output_dim=d_model)\n",
        "word_embeddings = embedding_layer(sample_input)  # (batch_size, seq_len, d_model)\n",
        "\n",
        "# 포지셔널 인코딩 함수\n",
        "def get_positional_encoding(seq_len, d_model):\n",
        "    pos = np.arange(seq_len)[:, np.newaxis]\n",
        "    i = np.arange(d_model)[np.newaxis, :]\n",
        "    angle_rates = 1 / np.power(10000, (2 * (i//2)) / np.float32(d_model))\n",
        "    angle_rads = pos * angle_rates\n",
        "\n",
        "    angle_rads[:, 0::2] = np.sin(angle_rads[:, 0::2])\n",
        "    angle_rads[:, 1::2] = np.cos(angle_rads[:, 1::2])\n",
        "\n",
        "    pos_encoding = angle_rads[np.newaxis, ...]\n",
        "    return tf.cast(pos_encoding, dtype=tf.float32)\n",
        "\n",
        "# 포지셔널 인코딩 추가\n",
        "pos_encoding = get_positional_encoding(max_len, d_model)\n",
        "embedded_input = word_embeddings + pos_encoding[:, :max_len, :]  # (batch_size, seq_len, d_model)\n",
        "\n",
        "# 간단한 멀티헤드 어텐션 (Self-Attention)\n",
        "attention_layer = tf.keras.layers.MultiHeadAttention(num_heads=4, key_dim=d_model//4)\n",
        "attention_output = attention_layer(query=embedded_input, value=embedded_input, key=embedded_input)\n",
        "\n",
        "print(\"입력 임베딩 + 포지셔널 인코딩 shape:\", embedded_input.shape)\n",
        "print(\"Self-Attention 출력 shape:\", attention_output.shape)"
      ]
    }
  ]
}