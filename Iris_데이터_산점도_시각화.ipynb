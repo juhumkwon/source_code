{
  "nbformat": 4,
  "nbformat_minor": 0,
  "metadata": {
    "colab": {
      "provenance": [],
      "authorship_tag": "ABX9TyOmerfzEGqy4jkvQcYtbN1H",
      "include_colab_link": true
    },
    "kernelspec": {
      "name": "python3",
      "display_name": "Python 3"
    },
    "language_info": {
      "name": "python"
    }
  },
  "cells": [
    {
      "cell_type": "markdown",
      "metadata": {
        "id": "view-in-github",
        "colab_type": "text"
      },
      "source": [
        "<a href=\"https://colab.research.google.com/github/juhumkwon/source_code/blob/main/Iris_%EB%8D%B0%EC%9D%B4%ED%84%B0_%EC%82%B0%EC%A0%90%EB%8F%84_%EC%8B%9C%EA%B0%81%ED%99%94.ipynb\" target=\"_parent\"><img src=\"https://colab.research.google.com/assets/colab-badge.svg\" alt=\"Open In Colab\"/></a>"
      ]
    },
    {
      "cell_type": "code",
      "source": [
        "import seaborn as sns\n",
        "import pandas as pd\n",
        "from sklearn import datasets\n",
        "import matplotlib.pyplot as plt\n",
        "\n",
        "# 데이터 로드\n",
        "iris = datasets.load_iris()\n",
        "X = iris.data\n",
        "y = iris.target\n",
        "feature_names = iris.feature_names\n",
        "target_names = iris.target_names\n",
        "\n",
        "# 데이터프레임 생성\n",
        "df = pd.DataFrame(X, columns=feature_names)\n",
        "df['species'] = target_names[y]\n",
        "\n",
        "\n",
        "\"\"\"\n",
        "sns.pairplot은 seaborn 라이브러리에서 제공하는 함수로, 데이터의 피처들 간의 쌍(pair)별 산점도를 시각화하는 데 사용됩니다.\n",
        "이 함수는 데이터셋의 피처들 간의 관계를 한눈에 파악할 수 있게 해줍니다.\n",
        "특히, hue 파라미터를 사용하면 클래스 레이블에 따라 다른 색으로 데이터를 표시할 수 있습니다.\n",
        "이를 통해 클래스 간의 구분을 시각적으로 이해하는 데 유용합니다.\n",
        "\"\"\"\n",
        "\n",
        "# Pairplot 그리기\n",
        "sns.pairplot(df, hue='species')\n",
        "plt.show()"
      ],
      "metadata": {
        "id": "5rVENghjOwTH"
      },
      "execution_count": null,
      "outputs": []
    },
    {
      "cell_type": "code",
      "source": [
        "import seaborn as sns\n",
        "import pandas as pd\n",
        "from sklearn import datasets\n",
        "import matplotlib.pyplot as plt\n",
        "\n",
        "# 데이터 로드\n",
        "iris = datasets.load_iris()\n",
        "X = iris.data\n",
        "y = iris.target\n",
        "feature_names = iris.feature_names\n",
        "target_names = iris.target_names\n",
        "\n",
        "# 데이터프레임 생성\n",
        "df = pd.DataFrame(X, columns=feature_names)\n",
        "df['species'] = target_names[y]\n",
        "\n",
        "# Pairplot 그리기\n",
        "sns.pairplot(df, hue='species', palette='viridis')\n",
        "plt.show()"
      ],
      "metadata": {
        "id": "uCQWpkTCPwNq"
      },
      "execution_count": null,
      "outputs": []
    }
  ]
}