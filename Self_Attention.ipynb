{
  "nbformat": 4,
  "nbformat_minor": 0,
  "metadata": {
    "colab": {
      "provenance": [],
      "authorship_tag": "ABX9TyORcWvozMkE1bea4wayoC6E",
      "include_colab_link": true
    },
    "kernelspec": {
      "name": "python3",
      "display_name": "Python 3"
    },
    "language_info": {
      "name": "python"
    }
  },
  "cells": [
    {
      "cell_type": "markdown",
      "metadata": {
        "id": "view-in-github",
        "colab_type": "text"
      },
      "source": [
        "<a href=\"https://colab.research.google.com/github/juhumkwon/source_code/blob/main/Self_Attention.ipynb\" target=\"_parent\"><img src=\"https://colab.research.google.com/assets/colab-badge.svg\" alt=\"Open In Colab\"/></a>"
      ]
    },
    {
      "cell_type": "code",
      "execution_count": 1,
      "metadata": {
        "id": "LvoVU6mCiL83"
      },
      "outputs": [],
      "source": [
        "\n",
        "import tensorflow as tf\n",
        "from tensorflow.keras.layers import Layer, Dense\n",
        "\n",
        "class ScaledDotProductAttention(Layer):\n",
        "    def __init__(self):\n",
        "        super().__init__()\n",
        "\n",
        "    def call(self, q, k, v, mask=None):\n",
        "        matmul_qk = tf.matmul(q, k, transpose_b=True)  # (batch, num_heads, seq_len, seq_len)\n",
        "        dk = tf.cast(tf.shape(k)[-1], tf.float32)\n",
        "        scaled_attention_logits = matmul_qk / tf.math.sqrt(dk)\n",
        "\n",
        "        if mask is not None:\n",
        "            scaled_attention_logits += (mask * -1e9)  # mask된 위치는 매우 작은 값으로 만들어 무시\n",
        "\n",
        "        attention_weights = tf.nn.softmax(scaled_attention_logits, axis=-1)\n",
        "        output = tf.matmul(attention_weights, v)  # (batch, num_heads, seq_len, depth)\n",
        "\n",
        "        return output, attention_weights"
      ]
    },
    {
      "cell_type": "code",
      "source": [
        "\n",
        "class MultiHeadSelfAttention(Layer):\n",
        "    def __init__(self, d_model, num_heads):\n",
        "        super().__init__()\n",
        "        assert d_model % num_heads == 0\n",
        "        self.num_heads = num_heads\n",
        "        self.depth = d_model // num_heads\n",
        "\n",
        "        self.wq = Dense(d_model)\n",
        "        self.wk = Dense(d_model)\n",
        "        self.wv = Dense(d_model)\n",
        "        self.dense = Dense(d_model)\n",
        "        self.attention = ScaledDotProductAttention()\n",
        "\n",
        "    def split_heads(self, x, batch_size):\n",
        "        # x: (batch_size, seq_len, d_model) -> (batch_size, num_heads, seq_len, depth)\n",
        "        x = tf.reshape(x, (batch_size, -1, self.num_heads, self.depth))\n",
        "        return tf.transpose(x, perm=[0, 2, 1, 3])\n",
        "\n",
        "    def call(self, x, mask=None):\n",
        "        batch_size = tf.shape(x)[0]\n",
        "\n",
        "        q = self.split_heads(self.wq(x), batch_size)\n",
        "        k = self.split_heads(self.wk(x), batch_size)\n",
        "        v = self.split_heads(self.wv(x), batch_size)\n",
        "\n",
        "        scaled_attention, attention_weights = self.attention(q, k, v, mask)\n",
        "\n",
        "        # Concatenate heads\n",
        "        scaled_attention = tf.transpose(scaled_attention, perm=[0, 2, 1, 3])  # (batch, seq_len, num_heads, depth)\n",
        "        concat_attention = tf.reshape(scaled_attention, (batch_size, -1, self.num_heads * self.depth))\n",
        "\n",
        "        output = self.dense(concat_attention)  # (batch_size, seq_len, d_model)\n",
        "        return output, attention_weights"
      ],
      "metadata": {
        "id": "4VHEynVTi4GC"
      },
      "execution_count": 3,
      "outputs": []
    },
    {
      "cell_type": "code",
      "source": [
        "\n",
        "# 하이퍼파라미터\n",
        "batch_size = 2\n",
        "seq_len = 5\n",
        "d_model = 512\n",
        "num_heads = 8\n",
        "\n",
        "# 입력 예시\n",
        "dummy_input = tf.random.uniform((batch_size, seq_len, d_model))\n",
        "\n",
        "# 셀프 어텐션 레이어 실행\n",
        "self_attention = MultiHeadSelfAttention(d_model=d_model, num_heads=num_heads)\n",
        "output, attn_weights = self_attention(dummy_input)\n",
        "\n",
        "print(\"출력 shape:\", output.shape)            # (2, 5, 512)\n",
        "print(\"어텐션 가중치 shape:\", attn_weights.shape)  # (2, 8, 5, 5)"
      ],
      "metadata": {
        "colab": {
          "base_uri": "https://localhost:8080/"
        },
        "id": "RmFrv-sUjAEw",
        "outputId": "f7c8bcd4-7a6e-4aba-e931-ddd4e8697934"
      },
      "execution_count": 4,
      "outputs": [
        {
          "output_type": "stream",
          "name": "stdout",
          "text": [
            "출력 shape: (2, 5, 512)\n",
            "어텐션 가중치 shape: (2, 8, 5, 5)\n"
          ]
        }
      ]
    },
    {
      "cell_type": "code",
      "source": [],
      "metadata": {
        "id": "QH2w0UejjLED"
      },
      "execution_count": null,
      "outputs": []
    }
  ]
}